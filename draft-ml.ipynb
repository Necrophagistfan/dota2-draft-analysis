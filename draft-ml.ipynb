{
 "cells": [
  {
   "cell_type": "code",
   "execution_count": 1,
   "metadata": {},
   "outputs": [],
   "source": [
    "import os\n",
    "import copy\n",
    "import dota2api\n",
    "import numpy as np\n",
    "import pandas as pd\n",
    "import matplotlib.pyplot as plt\n",
    "from sklearn.linear_model import LogisticRegression\n",
    "from sklearn.model_selection import train_test_split\n",
    "from sklearn.preprocessing import LabelEncoder\n",
    "from sklearn.naive_bayes import MultinomialNB\n",
    "\n",
    "%matplotlib inline"
   ]
  },
  {
   "cell_type": "code",
   "execution_count": 2,
   "metadata": {},
   "outputs": [],
   "source": [
    "API_KEY = '2029A39ECAAB627B5F71CF4C3E30F72D'\n",
    "api = dota2api.Initialise(API_KEY)"
   ]
  },
  {
   "cell_type": "code",
   "execution_count": 3,
   "metadata": {},
   "outputs": [],
   "source": [
    "data = pd.read_csv('../data/draft/capmodedata.csv')"
   ]
  },
  {
   "cell_type": "code",
   "execution_count": 5,
   "metadata": {},
   "outputs": [
    {
     "data": {
      "text/html": [
       "<div>\n",
       "<style scoped>\n",
       "    .dataframe tbody tr th:only-of-type {\n",
       "        vertical-align: middle;\n",
       "    }\n",
       "\n",
       "    .dataframe tbody tr th {\n",
       "        vertical-align: top;\n",
       "    }\n",
       "\n",
       "    .dataframe thead th {\n",
       "        text-align: right;\n",
       "    }\n",
       "</style>\n",
       "<table border=\"1\" class=\"dataframe\">\n",
       "  <thead>\n",
       "    <tr style=\"text-align: right;\">\n",
       "      <th></th>\n",
       "      <th>match_id</th>\n",
       "      <th>radiant_win</th>\n",
       "      <th>duration</th>\n",
       "      <th>1is_pick</th>\n",
       "      <th>1team_id</th>\n",
       "      <th>1hero_id</th>\n",
       "      <th>2is_pick</th>\n",
       "      <th>2team_id</th>\n",
       "      <th>2hero_id</th>\n",
       "      <th>3is_pick</th>\n",
       "      <th>...</th>\n",
       "      <th>17hero_id</th>\n",
       "      <th>18is_pick</th>\n",
       "      <th>18team_id</th>\n",
       "      <th>18hero_id</th>\n",
       "      <th>19is_pick</th>\n",
       "      <th>19team_id</th>\n",
       "      <th>19hero_id</th>\n",
       "      <th>20is_pick</th>\n",
       "      <th>20team_id</th>\n",
       "      <th>20hero_id</th>\n",
       "    </tr>\n",
       "  </thead>\n",
       "  <tbody>\n",
       "    <tr>\n",
       "      <th>0</th>\n",
       "      <td>1928898739</td>\n",
       "      <td>True</td>\n",
       "      <td>2885</td>\n",
       "      <td>False</td>\n",
       "      <td>0</td>\n",
       "      <td>73</td>\n",
       "      <td>False</td>\n",
       "      <td>1</td>\n",
       "      <td>69</td>\n",
       "      <td>False</td>\n",
       "      <td>...</td>\n",
       "      <td>41.0</td>\n",
       "      <td>False</td>\n",
       "      <td>0.0</td>\n",
       "      <td>81.0</td>\n",
       "      <td>True</td>\n",
       "      <td>1.0</td>\n",
       "      <td>105.0</td>\n",
       "      <td>True</td>\n",
       "      <td>0.0</td>\n",
       "      <td>94.0</td>\n",
       "    </tr>\n",
       "    <tr>\n",
       "      <th>1</th>\n",
       "      <td>1928932285</td>\n",
       "      <td>True</td>\n",
       "      <td>1894</td>\n",
       "      <td>False</td>\n",
       "      <td>0</td>\n",
       "      <td>69</td>\n",
       "      <td>False</td>\n",
       "      <td>1</td>\n",
       "      <td>102</td>\n",
       "      <td>False</td>\n",
       "      <td>...</td>\n",
       "      <td>40.0</td>\n",
       "      <td>False</td>\n",
       "      <td>0.0</td>\n",
       "      <td>28.0</td>\n",
       "      <td>True</td>\n",
       "      <td>1.0</td>\n",
       "      <td>97.0</td>\n",
       "      <td>True</td>\n",
       "      <td>0.0</td>\n",
       "      <td>62.0</td>\n",
       "    </tr>\n",
       "    <tr>\n",
       "      <th>2</th>\n",
       "      <td>1928903165</td>\n",
       "      <td>True</td>\n",
       "      <td>2424</td>\n",
       "      <td>False</td>\n",
       "      <td>1</td>\n",
       "      <td>85</td>\n",
       "      <td>False</td>\n",
       "      <td>0</td>\n",
       "      <td>68</td>\n",
       "      <td>False</td>\n",
       "      <td>...</td>\n",
       "      <td>30.0</td>\n",
       "      <td>False</td>\n",
       "      <td>1.0</td>\n",
       "      <td>47.0</td>\n",
       "      <td>True</td>\n",
       "      <td>0.0</td>\n",
       "      <td>58.0</td>\n",
       "      <td>True</td>\n",
       "      <td>1.0</td>\n",
       "      <td>33.0</td>\n",
       "    </tr>\n",
       "  </tbody>\n",
       "</table>\n",
       "<p>3 rows × 63 columns</p>\n",
       "</div>"
      ],
      "text/plain": [
       "     match_id  radiant_win  duration  1is_pick  1team_id  1hero_id  2is_pick  \\\n",
       "0  1928898739         True      2885     False         0        73     False   \n",
       "1  1928932285         True      1894     False         0        69     False   \n",
       "2  1928903165         True      2424     False         1        85     False   \n",
       "\n",
       "   2team_id  2hero_id  3is_pick    ...      17hero_id  18is_pick  18team_id  \\\n",
       "0         1        69     False    ...           41.0      False        0.0   \n",
       "1         1       102     False    ...           40.0      False        0.0   \n",
       "2         0        68     False    ...           30.0      False        1.0   \n",
       "\n",
       "   18hero_id  19is_pick  19team_id  19hero_id  20is_pick  20team_id  20hero_id  \n",
       "0       81.0       True        1.0      105.0       True        0.0       94.0  \n",
       "1       28.0       True        1.0       97.0       True        0.0       62.0  \n",
       "2       47.0       True        0.0       58.0       True        1.0       33.0  \n",
       "\n",
       "[3 rows x 63 columns]"
      ]
     },
     "execution_count": 5,
     "metadata": {},
     "output_type": "execute_result"
    }
   ],
   "source": [
    "data.head(3)"
   ]
  },
  {
   "cell_type": "code",
   "execution_count": 6,
   "metadata": {},
   "outputs": [
    {
     "data": {
      "text/plain": [
       "Index(['match_id', 'radiant_win', 'duration', '1is_pick', '1team_id',\n",
       "       '1hero_id', '2is_pick', '2team_id', '2hero_id', '3is_pick', '3team_id',\n",
       "       '3hero_id', '4is_pick', '4team_id', '4hero_id', '5is_pick', '5team_id',\n",
       "       '5hero_id', '6is_pick', '6team_id', '6hero_id', '7is_pick', '7team_id',\n",
       "       '7hero_id', '8is_pick', '8team_id', '8hero_id', '9is_pick', '9team_id',\n",
       "       '9hero_id', '10is_pick', '10team_id', '10hero_id', '11is_pick',\n",
       "       '11team_id', '11hero_id', '12is_pick', '12team_id', '12hero_id',\n",
       "       '13is_pick', '13team_id', '13hero_id', '14is_pick', '14team_id',\n",
       "       '14hero_id', '15is_pick', '15team_id', '15hero_id', '16is_pick',\n",
       "       '16team_id', '16hero_id', '17is_pick', '17team_id', '17hero_id',\n",
       "       '18is_pick', '18team_id', '18hero_id', '19is_pick', '19team_id',\n",
       "       '19hero_id', '20is_pick', '20team_id', '20hero_id'],\n",
       "      dtype='object')"
      ]
     },
     "execution_count": 6,
     "metadata": {},
     "output_type": "execute_result"
    }
   ],
   "source": [
    "data.columns"
   ]
  },
  {
   "cell_type": "code",
   "execution_count": 14,
   "metadata": {},
   "outputs": [],
   "source": [
    "hero_1 = data['1hero_id']\n",
    "hero_2 = data['2hero_id']\n",
    "hero_3 = data['3hero_id']\n",
    "hero_4 = data['4hero_id']\n",
    "hero_5 = data['5hero_id']\n",
    "hero_6 = data['6hero_id']\n",
    "# hero_7 = data['7hero_id']\n",
    "# hero_8 = data['8hero_id']\n",
    "# hero_9 = data['9hero_id']"
   ]
  },
  {
   "cell_type": "code",
   "execution_count": 9,
   "metadata": {},
   "outputs": [],
   "source": [
    "test1 = pd.DataFrame(columns=['1hero_id', '2hero_id', '3hero_id', '4hero_id', '5hero_id'])"
   ]
  },
  {
   "cell_type": "code",
   "execution_count": 10,
   "metadata": {},
   "outputs": [],
   "source": [
    "test1['1hero_id'] = hero_1\n",
    "test1['2hero_id'] = hero_2\n",
    "test1['3hero_id'] = hero_3\n",
    "test1['4hero_id'] = hero_4\n",
    "test1['5hero_id'] = hero_5\n",
    "# test1['6hero_id'] = hero_6\n",
    "# test1['7hero_id'] = hero_7\n",
    "# test1['8hero_id'] = hero_8\n",
    "# test1['9hero_id'] = hero_9"
   ]
  },
  {
   "cell_type": "code",
   "execution_count": 12,
   "metadata": {},
   "outputs": [
    {
     "data": {
      "text/html": [
       "<div>\n",
       "<style scoped>\n",
       "    .dataframe tbody tr th:only-of-type {\n",
       "        vertical-align: middle;\n",
       "    }\n",
       "\n",
       "    .dataframe tbody tr th {\n",
       "        vertical-align: top;\n",
       "    }\n",
       "\n",
       "    .dataframe thead th {\n",
       "        text-align: right;\n",
       "    }\n",
       "</style>\n",
       "<table border=\"1\" class=\"dataframe\">\n",
       "  <thead>\n",
       "    <tr style=\"text-align: right;\">\n",
       "      <th></th>\n",
       "      <th>1hero_id</th>\n",
       "      <th>2hero_id</th>\n",
       "      <th>3hero_id</th>\n",
       "      <th>4hero_id</th>\n",
       "      <th>5hero_id</th>\n",
       "    </tr>\n",
       "  </thead>\n",
       "  <tbody>\n",
       "    <tr>\n",
       "      <th>0</th>\n",
       "      <td>73</td>\n",
       "      <td>69</td>\n",
       "      <td>71</td>\n",
       "      <td>7</td>\n",
       "      <td>28</td>\n",
       "    </tr>\n",
       "    <tr>\n",
       "      <th>1</th>\n",
       "      <td>69</td>\n",
       "      <td>102</td>\n",
       "      <td>32</td>\n",
       "      <td>61</td>\n",
       "      <td>74</td>\n",
       "    </tr>\n",
       "    <tr>\n",
       "      <th>2</th>\n",
       "      <td>85</td>\n",
       "      <td>68</td>\n",
       "      <td>75</td>\n",
       "      <td>2</td>\n",
       "      <td>73</td>\n",
       "    </tr>\n",
       "  </tbody>\n",
       "</table>\n",
       "</div>"
      ],
      "text/plain": [
       "   1hero_id  2hero_id  3hero_id  4hero_id  5hero_id\n",
       "0        73        69        71         7        28\n",
       "1        69       102        32        61        74\n",
       "2        85        68        75         2        73"
      ]
     },
     "execution_count": 12,
     "metadata": {},
     "output_type": "execute_result"
    }
   ],
   "source": [
    "test1.head(3)"
   ]
  },
  {
   "cell_type": "code",
   "execution_count": 13,
   "metadata": {},
   "outputs": [
    {
     "name": "stderr",
     "output_type": "stream",
     "text": [
      "/home/sulabh/software/anaconda3/envs/dotaenv36/lib/python3.6/site-packages/ipykernel_launcher.py:1: FutureWarning: Method .as_matrix will be removed in a future version. Use .values instead.\n",
      "  \"\"\"Entry point for launching an IPython kernel.\n"
     ]
    },
    {
     "data": {
      "text/plain": [
       "array([[ 73,  69,  71,   7,  28],\n",
       "       [ 69, 102,  32,  61,  74],\n",
       "       [ 85,  68,  75,   2,  73],\n",
       "       ...,\n",
       "       [ 44,  29,  12,  17,  11],\n",
       "       [  1,  57,  50,  85,  29],\n",
       "       [ 71, 100,   7,  85,  39]])"
      ]
     },
     "execution_count": 13,
     "metadata": {},
     "output_type": "execute_result"
    }
   ],
   "source": [
    "X = test1.as_matrix()\n",
    "X"
   ]
  },
  {
   "cell_type": "code",
   "execution_count": 15,
   "metadata": {},
   "outputs": [],
   "source": [
    "y = np.array(hero_6)"
   ]
  },
  {
   "cell_type": "code",
   "execution_count": 16,
   "metadata": {},
   "outputs": [
    {
     "data": {
      "text/plain": [
       "array([ 68., 112.,  50., ...,  18.,  28.,  11.])"
      ]
     },
     "execution_count": 16,
     "metadata": {},
     "output_type": "execute_result"
    }
   ],
   "source": [
    "y"
   ]
  },
  {
   "cell_type": "code",
   "execution_count": 17,
   "metadata": {},
   "outputs": [],
   "source": [
    "X_train, X_test, y_train, y_test = train_test_split(X, y, test_size=0.2, random_state=42)"
   ]
  },
  {
   "cell_type": "code",
   "execution_count": 18,
   "metadata": {},
   "outputs": [],
   "source": [
    "model = LogisticRegression(n_jobs=4)"
   ]
  },
  {
   "cell_type": "code",
   "execution_count": 19,
   "metadata": {},
   "outputs": [
    {
     "name": "stderr",
     "output_type": "stream",
     "text": [
      "/home/sulabh/software/anaconda3/envs/dotaenv36/lib/python3.6/site-packages/sklearn/linear_model/logistic.py:1232: UserWarning: 'n_jobs' > 1 does not have any effect when 'solver' is set to 'liblinear'. Got 'n_jobs' = 4.\n",
      "  \" = {}.\".format(self.n_jobs))\n"
     ]
    },
    {
     "data": {
      "text/plain": [
       "LogisticRegression(C=1.0, class_weight=None, dual=False, fit_intercept=True,\n",
       "          intercept_scaling=1, max_iter=100, multi_class='ovr', n_jobs=4,\n",
       "          penalty='l2', random_state=None, solver='liblinear', tol=0.0001,\n",
       "          verbose=0, warm_start=False)"
      ]
     },
     "execution_count": 19,
     "metadata": {},
     "output_type": "execute_result"
    }
   ],
   "source": [
    "model.fit(X_train, y_train)"
   ]
  },
  {
   "cell_type": "code",
   "execution_count": 20,
   "metadata": {},
   "outputs": [
    {
     "data": {
      "text/plain": [
       "array([7., 7., 7., ..., 7., 7., 7.])"
      ]
     },
     "execution_count": 20,
     "metadata": {},
     "output_type": "execute_result"
    }
   ],
   "source": [
    "y_pred = model.predict(X_test)\n",
    "y_pred"
   ]
  },
  {
   "cell_type": "code",
   "execution_count": null,
   "metadata": {},
   "outputs": [],
   "source": [
    "from sklearn.metrics import accuracy_score"
   ]
  },
  {
   "cell_type": "code",
   "execution_count": null,
   "metadata": {},
   "outputs": [],
   "source": [
    "accuracy_score(y_test, y_pred)"
   ]
  },
  {
   "cell_type": "code",
   "execution_count": null,
   "metadata": {},
   "outputs": [],
   "source": [
    "np.unique(y_pred)"
   ]
  },
  {
   "cell_type": "code",
   "execution_count": null,
   "metadata": {},
   "outputs": [],
   "source": [
    "np.unique(y_test)"
   ]
  },
  {
   "cell_type": "code",
   "execution_count": null,
   "metadata": {},
   "outputs": [],
   "source": []
  }
 ],
 "metadata": {
  "kernelspec": {
   "display_name": "Python 3",
   "language": "python",
   "name": "python3"
  },
  "language_info": {
   "codemirror_mode": {
    "name": "ipython",
    "version": 3
   },
   "file_extension": ".py",
   "mimetype": "text/x-python",
   "name": "python",
   "nbconvert_exporter": "python",
   "pygments_lexer": "ipython3",
   "version": "3.6.6"
  }
 },
 "nbformat": 4,
 "nbformat_minor": 2
}
