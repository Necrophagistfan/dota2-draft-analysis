{
 "cells": [
  {
   "cell_type": "code",
   "execution_count": 1,
   "metadata": {},
   "outputs": [],
   "source": [
    "# # Importing Packages\n",
    "import os\n",
    "import copy\n",
    "import config\n",
    "import dota2api\n",
    "import numpy as np\n",
    "import pandas as pd\n",
    "import matplotlib.pyplot as plt\n",
    "from sklearn.linear_model import LogisticRegression\n",
    "from sklearn.model_selection import train_test_split\n",
    "from sklearn.preprocessing import LabelEncoder\n",
    "from sklearn.naive_bayes import MultinomialNB\n",
    "from sklearn.metrics import accuracy_score\n",
    "from sklearn import preprocessing\n",
    "from sklearn.externals import joblib\n",
    "from sklearn.metrics import accuracy_score\n",
    "\n",
    "%matplotlib inline"
   ]
  },
  {
   "cell_type": "code",
   "execution_count": 2,
   "metadata": {},
   "outputs": [],
   "source": [
    "# # STEAM Client API Key to access the dota2 api\n",
    "API_KEY = config.STEAM_API_KEY\n",
    "api = dota2api.Initialise(API_KEY)"
   ]
  },
  {
   "cell_type": "code",
   "execution_count": 3,
   "metadata": {},
   "outputs": [],
   "source": [
    "data = pd.read_csv('../data/draft/capmodedata.csv')"
   ]
  },
  {
   "cell_type": "code",
   "execution_count": 4,
   "metadata": {},
   "outputs": [
    {
     "data": {
      "text/html": [
       "<div>\n",
       "<style scoped>\n",
       "    .dataframe tbody tr th:only-of-type {\n",
       "        vertical-align: middle;\n",
       "    }\n",
       "\n",
       "    .dataframe tbody tr th {\n",
       "        vertical-align: top;\n",
       "    }\n",
       "\n",
       "    .dataframe thead th {\n",
       "        text-align: right;\n",
       "    }\n",
       "</style>\n",
       "<table border=\"1\" class=\"dataframe\">\n",
       "  <thead>\n",
       "    <tr style=\"text-align: right;\">\n",
       "      <th></th>\n",
       "      <th>match_id</th>\n",
       "      <th>radiant_win</th>\n",
       "      <th>duration</th>\n",
       "      <th>1is_pick</th>\n",
       "      <th>1team_id</th>\n",
       "      <th>1hero_id</th>\n",
       "      <th>2is_pick</th>\n",
       "      <th>2team_id</th>\n",
       "      <th>2hero_id</th>\n",
       "      <th>3is_pick</th>\n",
       "      <th>...</th>\n",
       "      <th>17hero_id</th>\n",
       "      <th>18is_pick</th>\n",
       "      <th>18team_id</th>\n",
       "      <th>18hero_id</th>\n",
       "      <th>19is_pick</th>\n",
       "      <th>19team_id</th>\n",
       "      <th>19hero_id</th>\n",
       "      <th>20is_pick</th>\n",
       "      <th>20team_id</th>\n",
       "      <th>20hero_id</th>\n",
       "    </tr>\n",
       "  </thead>\n",
       "  <tbody>\n",
       "    <tr>\n",
       "      <th>0</th>\n",
       "      <td>1928898739</td>\n",
       "      <td>True</td>\n",
       "      <td>2885</td>\n",
       "      <td>False</td>\n",
       "      <td>0</td>\n",
       "      <td>73</td>\n",
       "      <td>False</td>\n",
       "      <td>1</td>\n",
       "      <td>69</td>\n",
       "      <td>False</td>\n",
       "      <td>...</td>\n",
       "      <td>41.0</td>\n",
       "      <td>False</td>\n",
       "      <td>0.0</td>\n",
       "      <td>81.0</td>\n",
       "      <td>True</td>\n",
       "      <td>1.0</td>\n",
       "      <td>105.0</td>\n",
       "      <td>True</td>\n",
       "      <td>0.0</td>\n",
       "      <td>94.0</td>\n",
       "    </tr>\n",
       "    <tr>\n",
       "      <th>1</th>\n",
       "      <td>1928932285</td>\n",
       "      <td>True</td>\n",
       "      <td>1894</td>\n",
       "      <td>False</td>\n",
       "      <td>0</td>\n",
       "      <td>69</td>\n",
       "      <td>False</td>\n",
       "      <td>1</td>\n",
       "      <td>102</td>\n",
       "      <td>False</td>\n",
       "      <td>...</td>\n",
       "      <td>40.0</td>\n",
       "      <td>False</td>\n",
       "      <td>0.0</td>\n",
       "      <td>28.0</td>\n",
       "      <td>True</td>\n",
       "      <td>1.0</td>\n",
       "      <td>97.0</td>\n",
       "      <td>True</td>\n",
       "      <td>0.0</td>\n",
       "      <td>62.0</td>\n",
       "    </tr>\n",
       "    <tr>\n",
       "      <th>2</th>\n",
       "      <td>1928903165</td>\n",
       "      <td>True</td>\n",
       "      <td>2424</td>\n",
       "      <td>False</td>\n",
       "      <td>1</td>\n",
       "      <td>85</td>\n",
       "      <td>False</td>\n",
       "      <td>0</td>\n",
       "      <td>68</td>\n",
       "      <td>False</td>\n",
       "      <td>...</td>\n",
       "      <td>30.0</td>\n",
       "      <td>False</td>\n",
       "      <td>1.0</td>\n",
       "      <td>47.0</td>\n",
       "      <td>True</td>\n",
       "      <td>0.0</td>\n",
       "      <td>58.0</td>\n",
       "      <td>True</td>\n",
       "      <td>1.0</td>\n",
       "      <td>33.0</td>\n",
       "    </tr>\n",
       "  </tbody>\n",
       "</table>\n",
       "<p>3 rows × 63 columns</p>\n",
       "</div>"
      ],
      "text/plain": [
       "     match_id  radiant_win  duration  1is_pick  1team_id  1hero_id  2is_pick  \\\n",
       "0  1928898739         True      2885     False         0        73     False   \n",
       "1  1928932285         True      1894     False         0        69     False   \n",
       "2  1928903165         True      2424     False         1        85     False   \n",
       "\n",
       "   2team_id  2hero_id  3is_pick    ...      17hero_id  18is_pick  18team_id  \\\n",
       "0         1        69     False    ...           41.0      False        0.0   \n",
       "1         1       102     False    ...           40.0      False        0.0   \n",
       "2         0        68     False    ...           30.0      False        1.0   \n",
       "\n",
       "   18hero_id  19is_pick  19team_id  19hero_id  20is_pick  20team_id  20hero_id  \n",
       "0       81.0       True        1.0      105.0       True        0.0       94.0  \n",
       "1       28.0       True        1.0       97.0       True        0.0       62.0  \n",
       "2       47.0       True        0.0       58.0       True        1.0       33.0  \n",
       "\n",
       "[3 rows x 63 columns]"
      ]
     },
     "execution_count": 4,
     "metadata": {},
     "output_type": "execute_result"
    }
   ],
   "source": [
    "data.head(3)"
   ]
  },
  {
   "cell_type": "code",
   "execution_count": 5,
   "metadata": {},
   "outputs": [],
   "source": [
    "# # # Converting boolean value into number\n",
    "boolean_values = 20\n",
    "for i in range(boolean_values):\n",
    "    pick_id = '{}is_pick'.format(i+1)\n",
    "    data[pick_id] = data[pick_id].apply(lambda x: 1 if x else 0)"
   ]
  },
  {
   "cell_type": "code",
   "execution_count": 6,
   "metadata": {},
   "outputs": [
    {
     "data": {
      "text/html": [
       "<div>\n",
       "<style scoped>\n",
       "    .dataframe tbody tr th:only-of-type {\n",
       "        vertical-align: middle;\n",
       "    }\n",
       "\n",
       "    .dataframe tbody tr th {\n",
       "        vertical-align: top;\n",
       "    }\n",
       "\n",
       "    .dataframe thead th {\n",
       "        text-align: right;\n",
       "    }\n",
       "</style>\n",
       "<table border=\"1\" class=\"dataframe\">\n",
       "  <thead>\n",
       "    <tr style=\"text-align: right;\">\n",
       "      <th></th>\n",
       "      <th>match_id</th>\n",
       "      <th>radiant_win</th>\n",
       "      <th>duration</th>\n",
       "      <th>1is_pick</th>\n",
       "      <th>1team_id</th>\n",
       "      <th>1hero_id</th>\n",
       "      <th>2is_pick</th>\n",
       "      <th>2team_id</th>\n",
       "      <th>2hero_id</th>\n",
       "      <th>3is_pick</th>\n",
       "      <th>...</th>\n",
       "      <th>17hero_id</th>\n",
       "      <th>18is_pick</th>\n",
       "      <th>18team_id</th>\n",
       "      <th>18hero_id</th>\n",
       "      <th>19is_pick</th>\n",
       "      <th>19team_id</th>\n",
       "      <th>19hero_id</th>\n",
       "      <th>20is_pick</th>\n",
       "      <th>20team_id</th>\n",
       "      <th>20hero_id</th>\n",
       "    </tr>\n",
       "  </thead>\n",
       "  <tbody>\n",
       "    <tr>\n",
       "      <th>0</th>\n",
       "      <td>1928898739</td>\n",
       "      <td>True</td>\n",
       "      <td>2885</td>\n",
       "      <td>0</td>\n",
       "      <td>0</td>\n",
       "      <td>73</td>\n",
       "      <td>0</td>\n",
       "      <td>1</td>\n",
       "      <td>69</td>\n",
       "      <td>0</td>\n",
       "      <td>...</td>\n",
       "      <td>41.0</td>\n",
       "      <td>0</td>\n",
       "      <td>0.0</td>\n",
       "      <td>81.0</td>\n",
       "      <td>1</td>\n",
       "      <td>1.0</td>\n",
       "      <td>105.0</td>\n",
       "      <td>1</td>\n",
       "      <td>0.0</td>\n",
       "      <td>94.0</td>\n",
       "    </tr>\n",
       "    <tr>\n",
       "      <th>1</th>\n",
       "      <td>1928932285</td>\n",
       "      <td>True</td>\n",
       "      <td>1894</td>\n",
       "      <td>0</td>\n",
       "      <td>0</td>\n",
       "      <td>69</td>\n",
       "      <td>0</td>\n",
       "      <td>1</td>\n",
       "      <td>102</td>\n",
       "      <td>0</td>\n",
       "      <td>...</td>\n",
       "      <td>40.0</td>\n",
       "      <td>0</td>\n",
       "      <td>0.0</td>\n",
       "      <td>28.0</td>\n",
       "      <td>1</td>\n",
       "      <td>1.0</td>\n",
       "      <td>97.0</td>\n",
       "      <td>1</td>\n",
       "      <td>0.0</td>\n",
       "      <td>62.0</td>\n",
       "    </tr>\n",
       "    <tr>\n",
       "      <th>2</th>\n",
       "      <td>1928903165</td>\n",
       "      <td>True</td>\n",
       "      <td>2424</td>\n",
       "      <td>0</td>\n",
       "      <td>1</td>\n",
       "      <td>85</td>\n",
       "      <td>0</td>\n",
       "      <td>0</td>\n",
       "      <td>68</td>\n",
       "      <td>0</td>\n",
       "      <td>...</td>\n",
       "      <td>30.0</td>\n",
       "      <td>0</td>\n",
       "      <td>1.0</td>\n",
       "      <td>47.0</td>\n",
       "      <td>1</td>\n",
       "      <td>0.0</td>\n",
       "      <td>58.0</td>\n",
       "      <td>1</td>\n",
       "      <td>1.0</td>\n",
       "      <td>33.0</td>\n",
       "    </tr>\n",
       "    <tr>\n",
       "      <th>3</th>\n",
       "      <td>1928907204</td>\n",
       "      <td>True</td>\n",
       "      <td>2588</td>\n",
       "      <td>0</td>\n",
       "      <td>1</td>\n",
       "      <td>71</td>\n",
       "      <td>0</td>\n",
       "      <td>0</td>\n",
       "      <td>73</td>\n",
       "      <td>0</td>\n",
       "      <td>...</td>\n",
       "      <td>30.0</td>\n",
       "      <td>0</td>\n",
       "      <td>1.0</td>\n",
       "      <td>68.0</td>\n",
       "      <td>1</td>\n",
       "      <td>0.0</td>\n",
       "      <td>50.0</td>\n",
       "      <td>1</td>\n",
       "      <td>1.0</td>\n",
       "      <td>21.0</td>\n",
       "    </tr>\n",
       "    <tr>\n",
       "      <th>4</th>\n",
       "      <td>1928865084</td>\n",
       "      <td>True</td>\n",
       "      <td>3658</td>\n",
       "      <td>0</td>\n",
       "      <td>1</td>\n",
       "      <td>12</td>\n",
       "      <td>0</td>\n",
       "      <td>0</td>\n",
       "      <td>42</td>\n",
       "      <td>0</td>\n",
       "      <td>...</td>\n",
       "      <td>93.0</td>\n",
       "      <td>0</td>\n",
       "      <td>1.0</td>\n",
       "      <td>67.0</td>\n",
       "      <td>1</td>\n",
       "      <td>0.0</td>\n",
       "      <td>72.0</td>\n",
       "      <td>1</td>\n",
       "      <td>1.0</td>\n",
       "      <td>40.0</td>\n",
       "    </tr>\n",
       "  </tbody>\n",
       "</table>\n",
       "<p>5 rows × 63 columns</p>\n",
       "</div>"
      ],
      "text/plain": [
       "     match_id  radiant_win  duration  1is_pick  1team_id  1hero_id  2is_pick  \\\n",
       "0  1928898739         True      2885         0         0        73         0   \n",
       "1  1928932285         True      1894         0         0        69         0   \n",
       "2  1928903165         True      2424         0         1        85         0   \n",
       "3  1928907204         True      2588         0         1        71         0   \n",
       "4  1928865084         True      3658         0         1        12         0   \n",
       "\n",
       "   2team_id  2hero_id  3is_pick    ...      17hero_id  18is_pick  18team_id  \\\n",
       "0         1        69         0    ...           41.0          0        0.0   \n",
       "1         1       102         0    ...           40.0          0        0.0   \n",
       "2         0        68         0    ...           30.0          0        1.0   \n",
       "3         0        73         0    ...           30.0          0        1.0   \n",
       "4         0        42         0    ...           93.0          0        1.0   \n",
       "\n",
       "   18hero_id  19is_pick  19team_id  19hero_id  20is_pick  20team_id  20hero_id  \n",
       "0       81.0          1        1.0      105.0          1        0.0       94.0  \n",
       "1       28.0          1        1.0       97.0          1        0.0       62.0  \n",
       "2       47.0          1        0.0       58.0          1        1.0       33.0  \n",
       "3       68.0          1        0.0       50.0          1        1.0       21.0  \n",
       "4       67.0          1        0.0       72.0          1        1.0       40.0  \n",
       "\n",
       "[5 rows x 63 columns]"
      ]
     },
     "execution_count": 6,
     "metadata": {},
     "output_type": "execute_result"
    }
   ],
   "source": [
    "data.head()"
   ]
  },
  {
   "cell_type": "code",
   "execution_count": 7,
   "metadata": {},
   "outputs": [],
   "source": [
    "# # Getting the wins of the second pick\n",
    "temp = data.loc[data['1team_id'] == 0]\n",
    "win1 = temp.loc[temp['radiant_win'] == False]\n",
    "temp2 = data.loc[data['1team_id'] == 1]\n",
    "win2 = temp2.loc[temp2['radiant_win'] == True]"
   ]
  },
  {
   "cell_type": "code",
   "execution_count": 8,
   "metadata": {},
   "outputs": [
    {
     "data": {
      "text/plain": [
       "True"
      ]
     },
     "execution_count": 8,
     "metadata": {},
     "output_type": "execute_result"
    }
   ],
   "source": [
    "# # Validation\n",
    "win1.shape[0] + win2.shape[0] < len(data)"
   ]
  },
  {
   "cell_type": "code",
   "execution_count": 9,
   "metadata": {},
   "outputs": [],
   "source": [
    "to_concat_dataframes = [win1, win2]\n",
    "all_win_data_only = pd.concat(to_concat_dataframes)"
   ]
  },
  {
   "cell_type": "code",
   "execution_count": 10,
   "metadata": {},
   "outputs": [
    {
     "data": {
      "text/html": [
       "<div>\n",
       "<style scoped>\n",
       "    .dataframe tbody tr th:only-of-type {\n",
       "        vertical-align: middle;\n",
       "    }\n",
       "\n",
       "    .dataframe tbody tr th {\n",
       "        vertical-align: top;\n",
       "    }\n",
       "\n",
       "    .dataframe thead th {\n",
       "        text-align: right;\n",
       "    }\n",
       "</style>\n",
       "<table border=\"1\" class=\"dataframe\">\n",
       "  <thead>\n",
       "    <tr style=\"text-align: right;\">\n",
       "      <th></th>\n",
       "      <th>match_id</th>\n",
       "      <th>radiant_win</th>\n",
       "      <th>duration</th>\n",
       "      <th>1is_pick</th>\n",
       "      <th>1team_id</th>\n",
       "      <th>1hero_id</th>\n",
       "      <th>2is_pick</th>\n",
       "      <th>2team_id</th>\n",
       "      <th>2hero_id</th>\n",
       "      <th>3is_pick</th>\n",
       "      <th>...</th>\n",
       "      <th>17hero_id</th>\n",
       "      <th>18is_pick</th>\n",
       "      <th>18team_id</th>\n",
       "      <th>18hero_id</th>\n",
       "      <th>19is_pick</th>\n",
       "      <th>19team_id</th>\n",
       "      <th>19hero_id</th>\n",
       "      <th>20is_pick</th>\n",
       "      <th>20team_id</th>\n",
       "      <th>20hero_id</th>\n",
       "    </tr>\n",
       "  </thead>\n",
       "  <tbody>\n",
       "    <tr>\n",
       "      <th>2</th>\n",
       "      <td>1928903165</td>\n",
       "      <td>True</td>\n",
       "      <td>2424</td>\n",
       "      <td>0</td>\n",
       "      <td>1</td>\n",
       "      <td>85</td>\n",
       "      <td>0</td>\n",
       "      <td>0</td>\n",
       "      <td>68</td>\n",
       "      <td>0</td>\n",
       "      <td>...</td>\n",
       "      <td>30.0</td>\n",
       "      <td>0</td>\n",
       "      <td>1.0</td>\n",
       "      <td>47.0</td>\n",
       "      <td>1</td>\n",
       "      <td>0.0</td>\n",
       "      <td>58.0</td>\n",
       "      <td>1</td>\n",
       "      <td>1.0</td>\n",
       "      <td>33.0</td>\n",
       "    </tr>\n",
       "    <tr>\n",
       "      <th>3</th>\n",
       "      <td>1928907204</td>\n",
       "      <td>True</td>\n",
       "      <td>2588</td>\n",
       "      <td>0</td>\n",
       "      <td>1</td>\n",
       "      <td>71</td>\n",
       "      <td>0</td>\n",
       "      <td>0</td>\n",
       "      <td>73</td>\n",
       "      <td>0</td>\n",
       "      <td>...</td>\n",
       "      <td>30.0</td>\n",
       "      <td>0</td>\n",
       "      <td>1.0</td>\n",
       "      <td>68.0</td>\n",
       "      <td>1</td>\n",
       "      <td>0.0</td>\n",
       "      <td>50.0</td>\n",
       "      <td>1</td>\n",
       "      <td>1.0</td>\n",
       "      <td>21.0</td>\n",
       "    </tr>\n",
       "    <tr>\n",
       "      <th>4</th>\n",
       "      <td>1928865084</td>\n",
       "      <td>True</td>\n",
       "      <td>3658</td>\n",
       "      <td>0</td>\n",
       "      <td>1</td>\n",
       "      <td>12</td>\n",
       "      <td>0</td>\n",
       "      <td>0</td>\n",
       "      <td>42</td>\n",
       "      <td>0</td>\n",
       "      <td>...</td>\n",
       "      <td>93.0</td>\n",
       "      <td>0</td>\n",
       "      <td>1.0</td>\n",
       "      <td>67.0</td>\n",
       "      <td>1</td>\n",
       "      <td>0.0</td>\n",
       "      <td>72.0</td>\n",
       "      <td>1</td>\n",
       "      <td>1.0</td>\n",
       "      <td>40.0</td>\n",
       "    </tr>\n",
       "  </tbody>\n",
       "</table>\n",
       "<p>3 rows × 63 columns</p>\n",
       "</div>"
      ],
      "text/plain": [
       "     match_id  radiant_win  duration  1is_pick  1team_id  1hero_id  2is_pick  \\\n",
       "2  1928903165         True      2424         0         1        85         0   \n",
       "3  1928907204         True      2588         0         1        71         0   \n",
       "4  1928865084         True      3658         0         1        12         0   \n",
       "\n",
       "   2team_id  2hero_id  3is_pick    ...      17hero_id  18is_pick  18team_id  \\\n",
       "2         0        68         0    ...           30.0          0        1.0   \n",
       "3         0        73         0    ...           30.0          0        1.0   \n",
       "4         0        42         0    ...           93.0          0        1.0   \n",
       "\n",
       "   18hero_id  19is_pick  19team_id  19hero_id  20is_pick  20team_id  20hero_id  \n",
       "2       47.0          1        0.0       58.0          1        1.0       33.0  \n",
       "3       68.0          1        0.0       50.0          1        1.0       21.0  \n",
       "4       67.0          1        0.0       72.0          1        1.0       40.0  \n",
       "\n",
       "[3 rows x 63 columns]"
      ]
     },
     "execution_count": 10,
     "metadata": {},
     "output_type": "execute_result"
    }
   ],
   "source": [
    "all_win_data_only = all_win_data_only.sort_index()\n",
    "all_win_data_only.head(3)"
   ]
  },
  {
   "cell_type": "code",
   "execution_count": 11,
   "metadata": {},
   "outputs": [],
   "source": [
    "# # # Getting Heroes\n",
    "# # # Getting Heroes ID according to the name\n",
    "heroes = api.get_heroes()\n",
    "\n",
    "heroes_dict = {}\n",
    "for i in range (len(heroes['heroes'])):\n",
    "    hero_id = heroes['heroes'][i]['id']\n",
    "    hero_name = heroes['heroes'][i]['localized_name']\n",
    "    heroes_dict[hero_id]= hero_name"
   ]
  },
  {
   "cell_type": "markdown",
   "metadata": {},
   "source": [
    "### Applying Machine Learning Model"
   ]
  },
  {
   "cell_type": "markdown",
   "metadata": {},
   "source": [
    "### Model 1"
   ]
  },
  {
   "cell_type": "code",
   "execution_count": 15,
   "metadata": {},
   "outputs": [],
   "source": [
    "# # Making Variables\n",
    "\n",
    "hero_1 = all_win_data_only['1hero_id']\n",
    "heropick_1 = all_win_data_only['1is_pick']\n",
    "hero_2 = all_win_data_only['2hero_id']\n",
    "heropick_2 = all_win_data_only['2is_pick']\n",
    "hero_3 = all_win_data_only['3hero_id']\n",
    "heropick_3 = all_win_data_only['3is_pick']\n",
    "hero_4 = all_win_data_only['4hero_id']\n",
    "heropick_4 = all_win_data_only['4is_pick']\n",
    "hero_5 = all_win_data_only['5hero_id']\n",
    "heropick_5 = all_win_data_only['5is_pick']\n",
    "\n",
    "hero_6 = all_win_data_only['6hero_id']\n",
    "heropick_6 = all_win_data_only['6is_pick']\n",
    "hero_7 = all_win_data_only['7hero_id']\n",
    "heropick_7 = all_win_data_only['7is_pick']\n",
    "hero_8 = all_win_data_only['8hero_id']\n",
    "heropick_8 = all_win_data_only['8is_pick']\n",
    "hero_9 = all_win_data_only['9hero_id']\n",
    "heropick_9 = all_win_data_only['9is_pick']\n",
    "hero_10 = all_win_data_only['10hero_id']\n",
    "heropick_10 = all_win_data_only['10is_pick']\n",
    "\n",
    "hero_11 = all_win_data_only['11hero_id']\n",
    "heropick_11 = all_win_data_only['11is_pick']\n",
    "hero_12 = all_win_data_only['12hero_id']\n",
    "heropick_12 = all_win_data_only['12is_pick']\n",
    "hero_13 = all_win_data_only['13hero_id']\n",
    "heropick_13 = all_win_data_only['13is_pick']\n",
    "hero_14 = all_win_data_only['14hero_id']\n",
    "heropick_14 = all_win_data_only['14is_pick']\n",
    "hero_15 = all_win_data_only['15hero_id']\n",
    "heropick_15 = all_win_data_only['15is_pick']\n",
    "\n",
    "hero_16 = all_win_data_only['16hero_id']\n",
    "heropick_16 = all_win_data_only['16is_pick']\n",
    "hero_17 = all_win_data_only['17hero_id']\n",
    "heropick_17 = all_win_data_only['17is_pick']\n",
    "hero_18 = all_win_data_only['18hero_id']\n",
    "heropick_18 = all_win_data_only['18is_pick']\n",
    "hero_19 = all_win_data_only['19hero_id']\n",
    "heropick_19 = all_win_data_only['19is_pick']\n",
    "hero_20 = all_win_data_only['20hero_id']\n",
    "heropick_20 = all_win_data_only['20is_pick']"
   ]
  },
  {
   "cell_type": "code",
   "execution_count": 16,
   "metadata": {},
   "outputs": [],
   "source": [
    "test1 = pd.DataFrame(columns=['1hero_id','1is_pick' ,'2hero_id','2is_pick', '3hero_id','3is_pick', '4hero_id', '4is_pick', '5hero_id', '5is_pick'])"
   ]
  },
  {
   "cell_type": "code",
   "execution_count": 17,
   "metadata": {},
   "outputs": [],
   "source": [
    "test1['1hero_id'] = hero_1\n",
    "test1['1is_pick'] = heropick_1\n",
    "test1['2hero_id'] = hero_2\n",
    "test1['2is_pick'] = heropick_2\n",
    "test1['3hero_id'] = hero_3\n",
    "test1['3is_pick'] = heropick_3\n",
    "test1['4hero_id'] = hero_4\n",
    "test1['4is_pick'] = heropick_4\n",
    "test1['5hero_id'] = hero_5\n",
    "test1['5is_pick'] = heropick_5"
   ]
  },
  {
   "cell_type": "code",
   "execution_count": 18,
   "metadata": {},
   "outputs": [
    {
     "name": "stderr",
     "output_type": "stream",
     "text": [
      "/home/sulabh/software/anaconda3/envs/dotaenv36/lib/python3.6/site-packages/ipykernel_launcher.py:1: FutureWarning: Method .as_matrix will be removed in a future version. Use .values instead.\n",
      "  \"\"\"Entry point for launching an IPython kernel.\n"
     ]
    },
    {
     "data": {
      "text/plain": [
       "array([[ 85,   0,  68, ...,   0,  73,   1],\n",
       "       [ 71,   0,  73, ...,   0,   8,   1],\n",
       "       [ 12,   0,  42, ...,   0,  85,   1],\n",
       "       ...,\n",
       "       [ 54,   0,  71, ...,   0,   7,   1],\n",
       "       [ 44,   0,  29, ...,   0,  11,   1],\n",
       "       [ 71,   0, 100, ...,   0,  39,   1]])"
      ]
     },
     "execution_count": 18,
     "metadata": {},
     "output_type": "execute_result"
    }
   ],
   "source": [
    "X = test1.as_matrix()\n",
    "X"
   ]
  },
  {
   "cell_type": "code",
   "execution_count": 19,
   "metadata": {},
   "outputs": [
    {
     "data": {
      "text/plain": [
       "(227312, 10)"
      ]
     },
     "execution_count": 19,
     "metadata": {},
     "output_type": "execute_result"
    }
   ],
   "source": [
    "X.shape"
   ]
  },
  {
   "cell_type": "code",
   "execution_count": 20,
   "metadata": {},
   "outputs": [],
   "source": [
    "y = np.array(hero_6)"
   ]
  },
  {
   "cell_type": "code",
   "execution_count": 21,
   "metadata": {},
   "outputs": [
    {
     "data": {
      "text/plain": [
       "(227312,)"
      ]
     },
     "execution_count": 21,
     "metadata": {},
     "output_type": "execute_result"
    }
   ],
   "source": [
    "y.shape"
   ]
  },
  {
   "cell_type": "code",
   "execution_count": 22,
   "metadata": {},
   "outputs": [],
   "source": [
    "X_train, X_test, y_train, y_test = train_test_split(X, y, test_size=0.2, random_state=42)"
   ]
  },
  {
   "cell_type": "code",
   "execution_count": 23,
   "metadata": {},
   "outputs": [],
   "source": [
    "from sklearn.neural_network import MLPClassifier"
   ]
  },
  {
   "cell_type": "code",
   "execution_count": 24,
   "metadata": {},
   "outputs": [],
   "source": [
    "model1 = MLPClassifier()"
   ]
  },
  {
   "cell_type": "code",
   "execution_count": 25,
   "metadata": {},
   "outputs": [
    {
     "data": {
      "text/plain": [
       "MLPClassifier(activation='relu', alpha=0.0001, batch_size='auto', beta_1=0.9,\n",
       "       beta_2=0.999, early_stopping=False, epsilon=1e-08,\n",
       "       hidden_layer_sizes=(100,), learning_rate='constant',\n",
       "       learning_rate_init=0.001, max_iter=200, momentum=0.9,\n",
       "       nesterovs_momentum=True, power_t=0.5, random_state=None,\n",
       "       shuffle=True, solver='adam', tol=0.0001, validation_fraction=0.1,\n",
       "       verbose=False, warm_start=False)"
      ]
     },
     "execution_count": 25,
     "metadata": {},
     "output_type": "execute_result"
    }
   ],
   "source": [
    "model1.fit(X_train, y_train)"
   ]
  },
  {
   "cell_type": "code",
   "execution_count": 26,
   "metadata": {},
   "outputs": [],
   "source": [
    "y_pred = model1.predict(X_test)"
   ]
  },
  {
   "cell_type": "code",
   "execution_count": 27,
   "metadata": {},
   "outputs": [
    {
     "data": {
      "text/plain": [
       "0.10254492664364429"
      ]
     },
     "execution_count": 27,
     "metadata": {},
     "output_type": "execute_result"
    }
   ],
   "source": [
    "accuracy_score(y_test, y_pred)"
   ]
  },
  {
   "cell_type": "code",
   "execution_count": 28,
   "metadata": {},
   "outputs": [
    {
     "data": {
      "text/plain": [
       "['model1.pkl']"
      ]
     },
     "execution_count": 28,
     "metadata": {},
     "output_type": "execute_result"
    }
   ],
   "source": [
    "joblib.dump(model1, 'model1.pkl')"
   ]
  },
  {
   "cell_type": "markdown",
   "metadata": {},
   "source": [
    "### Model 2"
   ]
  },
  {
   "cell_type": "code",
   "execution_count": 30,
   "metadata": {},
   "outputs": [
    {
     "name": "stderr",
     "output_type": "stream",
     "text": [
      "/home/sulabh/software/anaconda3/envs/dotaenv36/lib/python3.6/site-packages/ipykernel_launcher.py:27: FutureWarning: Method .as_matrix will be removed in a future version. Use .values instead.\n"
     ]
    },
    {
     "data": {
      "text/plain": [
       "MLPClassifier(activation='relu', alpha=0.0001, batch_size='auto', beta_1=0.9,\n",
       "       beta_2=0.999, early_stopping=False, epsilon=1e-08,\n",
       "       hidden_layer_sizes=(100,), learning_rate='constant',\n",
       "       learning_rate_init=0.001, max_iter=200, momentum=0.9,\n",
       "       nesterovs_momentum=True, power_t=0.5, random_state=None,\n",
       "       shuffle=True, solver='adam', tol=0.0001, validation_fraction=0.1,\n",
       "       verbose=False, warm_start=False)"
      ]
     },
     "execution_count": 30,
     "metadata": {},
     "output_type": "execute_result"
    }
   ],
   "source": [
    "test2 = pd.DataFrame(columns=[\n",
    "                        '1hero_id',\n",
    "                        '1is_pick',\n",
    "                        '2hero_id',\n",
    "                        '2is_pick', \n",
    "                        '3hero_id',\n",
    "                        '3is_pick', \n",
    "                        '4hero_id', \n",
    "                        '4is_pick', \n",
    "                        '5hero_id', \n",
    "                        '5is_pick',\n",
    "                        '6hero_id',\n",
    "                        '6is_pick'])\n",
    "test1['1hero_id'] = hero_1\n",
    "test1['1is_pick'] = heropick_1\n",
    "test1['2hero_id'] = hero_2\n",
    "test1['2is_pick'] = heropick_2\n",
    "test1['3hero_id'] = hero_3\n",
    "test1['3is_pick'] = heropick_3\n",
    "test1['4hero_id'] = hero_4\n",
    "test1['4is_pick'] = heropick_4\n",
    "test1['5hero_id'] = hero_5\n",
    "test1['5is_pick'] = heropick_5\n",
    "test1['6hero_id'] = hero_6\n",
    "test1['6is_pick'] = heropick_6\n",
    "\n",
    "X = test1.as_matrix()\n",
    "y = np.array(hero_7)\n",
    "\n",
    "X_train, X_test, y_train, y_test = train_test_split(X, y, test_size=0.2, random_state=42)\n",
    "\n",
    "model2 = MLPClassifier()\n",
    "model2.fit(X_train, y_train)"
   ]
  },
  {
   "cell_type": "code",
   "execution_count": 31,
   "metadata": {},
   "outputs": [
    {
     "data": {
      "text/plain": [
       "['model2.pkl']"
      ]
     },
     "execution_count": 31,
     "metadata": {},
     "output_type": "execute_result"
    }
   ],
   "source": [
    "y_pred = model2.predict(X_test)\n",
    "accuracy_score(y_test, y_pred)\n",
    "joblib.dump(model2, 'model2.pkl')"
   ]
  },
  {
   "cell_type": "markdown",
   "metadata": {},
   "source": [
    "### Model 3"
   ]
  },
  {
   "cell_type": "code",
   "execution_count": 33,
   "metadata": {},
   "outputs": [
    {
     "name": "stderr",
     "output_type": "stream",
     "text": [
      "/home/sulabh/software/anaconda3/envs/dotaenv36/lib/python3.6/site-packages/ipykernel_launcher.py:35: FutureWarning: Method .as_matrix will be removed in a future version. Use .values instead.\n"
     ]
    },
    {
     "data": {
      "text/plain": [
       "MLPClassifier(activation='relu', alpha=0.0001, batch_size='auto', beta_1=0.9,\n",
       "       beta_2=0.999, early_stopping=False, epsilon=1e-08,\n",
       "       hidden_layer_sizes=(100,), learning_rate='constant',\n",
       "       learning_rate_init=0.001, max_iter=200, momentum=0.9,\n",
       "       nesterovs_momentum=True, power_t=0.5, random_state=None,\n",
       "       shuffle=True, solver='adam', tol=0.0001, validation_fraction=0.1,\n",
       "       verbose=False, warm_start=False)"
      ]
     },
     "execution_count": 33,
     "metadata": {},
     "output_type": "execute_result"
    }
   ],
   "source": [
    "test2 = pd.DataFrame(columns=[\n",
    "                        '1hero_id',\n",
    "                        '1is_pick',\n",
    "                        '2hero_id',\n",
    "                        '2is_pick', \n",
    "                        '3hero_id',\n",
    "                        '3is_pick', \n",
    "                        '4hero_id', \n",
    "                        '4is_pick', \n",
    "                        '5hero_id', \n",
    "                        '5is_pick',\n",
    "                        '6hero_id',\n",
    "                        '6is_pick',\n",
    "                        '7hero_id',\n",
    "                        '7is_pick',\n",
    "                        '8hero_id',\n",
    "                        '8is_pick'])\n",
    "test1['1hero_id'] = hero_1\n",
    "test1['1is_pick'] = heropick_1\n",
    "test1['2hero_id'] = hero_2\n",
    "test1['2is_pick'] = heropick_2\n",
    "test1['3hero_id'] = hero_3\n",
    "test1['3is_pick'] = heropick_3\n",
    "test1['4hero_id'] = hero_4\n",
    "test1['4is_pick'] = heropick_4\n",
    "test1['5hero_id'] = hero_5\n",
    "test1['5is_pick'] = heropick_5\n",
    "test1['6hero_id'] = hero_6\n",
    "test1['6is_pick'] = heropick_6\n",
    "test1['7hero_id'] = hero_7\n",
    "test1['7is_pick'] = heropick_7\n",
    "test1['8hero_id'] = hero_8\n",
    "test1['8is_pick'] = heropick_8\n",
    "\n",
    "X = test1.as_matrix()\n",
    "y = np.array(hero_9)\n",
    "\n",
    "X_train, X_test, y_train, y_test = train_test_split(X, y, test_size=0.2, random_state=42)\n",
    "\n",
    "model3 = MLPClassifier()\n",
    "model3.fit(X_train, y_train)"
   ]
  },
  {
   "cell_type": "code",
   "execution_count": 34,
   "metadata": {},
   "outputs": [
    {
     "data": {
      "text/plain": [
       "['model3.pkl']"
      ]
     },
     "execution_count": 34,
     "metadata": {},
     "output_type": "execute_result"
    }
   ],
   "source": [
    "y_pred = model3.predict(X_test)\n",
    "accuracy_score(y_test, y_pred)\n",
    "joblib.dump(model3, 'model3.pkl')"
   ]
  },
  {
   "cell_type": "markdown",
   "metadata": {},
   "source": [
    "### Model 4"
   ]
  },
  {
   "cell_type": "code",
   "execution_count": 36,
   "metadata": {},
   "outputs": [
    {
     "name": "stderr",
     "output_type": "stream",
     "text": [
      "/home/sulabh/software/anaconda3/envs/dotaenv36/lib/python3.6/site-packages/ipykernel_launcher.py:43: FutureWarning: Method .as_matrix will be removed in a future version. Use .values instead.\n"
     ]
    },
    {
     "data": {
      "text/plain": [
       "MLPClassifier(activation='relu', alpha=0.0001, batch_size='auto', beta_1=0.9,\n",
       "       beta_2=0.999, early_stopping=False, epsilon=1e-08,\n",
       "       hidden_layer_sizes=(100,), learning_rate='constant',\n",
       "       learning_rate_init=0.001, max_iter=200, momentum=0.9,\n",
       "       nesterovs_momentum=True, power_t=0.5, random_state=None,\n",
       "       shuffle=True, solver='adam', tol=0.0001, validation_fraction=0.1,\n",
       "       verbose=False, warm_start=False)"
      ]
     },
     "execution_count": 36,
     "metadata": {},
     "output_type": "execute_result"
    }
   ],
   "source": [
    "test2 = pd.DataFrame(columns=[\n",
    "                        '1hero_id',\n",
    "                        '1is_pick',\n",
    "                        '2hero_id',\n",
    "                        '2is_pick', \n",
    "                        '3hero_id',\n",
    "                        '3is_pick', \n",
    "                        '4hero_id', \n",
    "                        '4is_pick', \n",
    "                        '5hero_id', \n",
    "                        '5is_pick',\n",
    "                        '6hero_id',\n",
    "                        '6is_pick',\n",
    "                        '7hero_id',\n",
    "                        '7is_pick',\n",
    "                        '8hero_id',\n",
    "                        '8is_pick',\n",
    "                        '9hero_id',\n",
    "                        '9is_pick',\n",
    "                        '10hero_id',\n",
    "                        '10is_pick'])\n",
    "test1['1hero_id'] = hero_1\n",
    "test1['1is_pick'] = heropick_1\n",
    "test1['2hero_id'] = hero_2\n",
    "test1['2is_pick'] = heropick_2\n",
    "test1['3hero_id'] = hero_3\n",
    "test1['3is_pick'] = heropick_3\n",
    "test1['4hero_id'] = hero_4\n",
    "test1['4is_pick'] = heropick_4\n",
    "test1['5hero_id'] = hero_5\n",
    "test1['5is_pick'] = heropick_5\n",
    "test1['6hero_id'] = hero_6\n",
    "test1['6is_pick'] = heropick_6\n",
    "test1['7hero_id'] = hero_7\n",
    "test1['7is_pick'] = heropick_7\n",
    "test1['8hero_id'] = hero_8\n",
    "test1['8is_pick'] = heropick_8\n",
    "test1['9hero_id'] = hero_9\n",
    "test1['9is_pick'] = heropick_9\n",
    "test1['10hero_id'] = hero_10\n",
    "test1['10is_pick'] = heropick_10\n",
    "\n",
    "X = test1.as_matrix()\n",
    "y = np.array(hero_11)\n",
    "\n",
    "X_train, X_test, y_train, y_test = train_test_split(X, y, test_size=0.2, random_state=42)\n",
    "\n",
    "model4 = MLPClassifier()\n",
    "model4.fit(X_train, y_train)"
   ]
  },
  {
   "cell_type": "code",
   "execution_count": 37,
   "metadata": {},
   "outputs": [
    {
     "data": {
      "text/plain": [
       "['model4.pkl']"
      ]
     },
     "execution_count": 37,
     "metadata": {},
     "output_type": "execute_result"
    }
   ],
   "source": [
    "y_pred = model4.predict(X_test)\n",
    "accuracy_score(y_test, y_pred)\n",
    "joblib.dump(model4, 'model4.pkl')"
   ]
  },
  {
   "cell_type": "markdown",
   "metadata": {},
   "source": [
    "### Model 5"
   ]
  },
  {
   "cell_type": "code",
   "execution_count": 38,
   "metadata": {},
   "outputs": [
    {
     "name": "stderr",
     "output_type": "stream",
     "text": [
      "/home/sulabh/software/anaconda3/envs/dotaenv36/lib/python3.6/site-packages/ipykernel_launcher.py:51: FutureWarning: Method .as_matrix will be removed in a future version. Use .values instead.\n"
     ]
    },
    {
     "data": {
      "text/plain": [
       "MLPClassifier(activation='relu', alpha=0.0001, batch_size='auto', beta_1=0.9,\n",
       "       beta_2=0.999, early_stopping=False, epsilon=1e-08,\n",
       "       hidden_layer_sizes=(100,), learning_rate='constant',\n",
       "       learning_rate_init=0.001, max_iter=200, momentum=0.9,\n",
       "       nesterovs_momentum=True, power_t=0.5, random_state=None,\n",
       "       shuffle=True, solver='adam', tol=0.0001, validation_fraction=0.1,\n",
       "       verbose=False, warm_start=False)"
      ]
     },
     "execution_count": 38,
     "metadata": {},
     "output_type": "execute_result"
    }
   ],
   "source": [
    "test2 = pd.DataFrame(columns=[\n",
    "                        '1hero_id',\n",
    "                        '1is_pick',\n",
    "                        '2hero_id',\n",
    "                        '2is_pick', \n",
    "                        '3hero_id',\n",
    "                        '3is_pick', \n",
    "                        '4hero_id', \n",
    "                        '4is_pick', \n",
    "                        '5hero_id', \n",
    "                        '5is_pick',\n",
    "                        '6hero_id',\n",
    "                        '6is_pick',\n",
    "                        '7hero_id',\n",
    "                        '7is_pick',\n",
    "                        '8hero_id',\n",
    "                        '8is_pick',\n",
    "                        '9hero_id',\n",
    "                        '9is_pick',\n",
    "                        '10hero_id',\n",
    "                        '10is_pick', \n",
    "                        '11hero_id', \n",
    "                        '11is_pick',\n",
    "                        '12hero_id',\n",
    "                        '12is_pick'])\n",
    "test1['1hero_id'] = hero_1\n",
    "test1['1is_pick'] = heropick_1\n",
    "test1['2hero_id'] = hero_2\n",
    "test1['2is_pick'] = heropick_2\n",
    "test1['3hero_id'] = hero_3\n",
    "test1['3is_pick'] = heropick_3\n",
    "test1['4hero_id'] = hero_4\n",
    "test1['4is_pick'] = heropick_4\n",
    "test1['5hero_id'] = hero_5\n",
    "test1['5is_pick'] = heropick_5\n",
    "test1['6hero_id'] = hero_6\n",
    "test1['6is_pick'] = heropick_6\n",
    "test1['7hero_id'] = hero_7\n",
    "test1['7is_pick'] = heropick_7\n",
    "test1['8hero_id'] = hero_8\n",
    "test1['8is_pick'] = heropick_8\n",
    "test1['9hero_id'] = hero_9\n",
    "test1['9is_pick'] = heropick_9\n",
    "test1['10hero_id'] = hero_10\n",
    "test1['10is_pick'] = heropick_10\n",
    "test1['11hero_id'] = hero_11\n",
    "test1['11is_pick'] = heropick_11\n",
    "test1['12hero_id'] = hero_12\n",
    "test1['12is_pick'] = heropick_12\n",
    "\n",
    "X = test1.as_matrix()\n",
    "y = np.array(hero_13)\n",
    "\n",
    "X_train, X_test, y_train, y_test = train_test_split(X, y, test_size=0.2, random_state=42)\n",
    "\n",
    "model5 = MLPClassifier()\n",
    "model5.fit(X_train, y_train)"
   ]
  },
  {
   "cell_type": "code",
   "execution_count": 39,
   "metadata": {},
   "outputs": [
    {
     "data": {
      "text/plain": [
       "['model5.pkl']"
      ]
     },
     "execution_count": 39,
     "metadata": {},
     "output_type": "execute_result"
    }
   ],
   "source": [
    "y_pred = model5.predict(X_test)\n",
    "accuracy_score(y_test, y_pred)\n",
    "joblib.dump(model5, 'model5.pkl')"
   ]
  },
  {
   "cell_type": "markdown",
   "metadata": {},
   "source": [
    "### Model 6"
   ]
  },
  {
   "cell_type": "code",
   "execution_count": 40,
   "metadata": {},
   "outputs": [
    {
     "name": "stderr",
     "output_type": "stream",
     "text": [
      "/home/sulabh/software/anaconda3/envs/dotaenv36/lib/python3.6/site-packages/ipykernel_launcher.py:59: FutureWarning: Method .as_matrix will be removed in a future version. Use .values instead.\n"
     ]
    },
    {
     "data": {
      "text/plain": [
       "MLPClassifier(activation='relu', alpha=0.0001, batch_size='auto', beta_1=0.9,\n",
       "       beta_2=0.999, early_stopping=False, epsilon=1e-08,\n",
       "       hidden_layer_sizes=(100,), learning_rate='constant',\n",
       "       learning_rate_init=0.001, max_iter=200, momentum=0.9,\n",
       "       nesterovs_momentum=True, power_t=0.5, random_state=None,\n",
       "       shuffle=True, solver='adam', tol=0.0001, validation_fraction=0.1,\n",
       "       verbose=False, warm_start=False)"
      ]
     },
     "execution_count": 40,
     "metadata": {},
     "output_type": "execute_result"
    }
   ],
   "source": [
    "test2 = pd.DataFrame(columns=[\n",
    "                        '1hero_id',\n",
    "                        '1is_pick',\n",
    "                        '2hero_id',\n",
    "                        '2is_pick', \n",
    "                        '3hero_id',\n",
    "                        '3is_pick', \n",
    "                        '4hero_id', \n",
    "                        '4is_pick', \n",
    "                        '5hero_id', \n",
    "                        '5is_pick',\n",
    "                        '6hero_id',\n",
    "                        '6is_pick',\n",
    "                        '7hero_id',\n",
    "                        '7is_pick',\n",
    "                        '8hero_id',\n",
    "                        '8is_pick',\n",
    "                        '9hero_id',\n",
    "                        '9is_pick',\n",
    "                        '10hero_id',\n",
    "                        '10is_pick', \n",
    "                        '11hero_id', \n",
    "                        '11is_pick',\n",
    "                        '12hero_id',\n",
    "                        '12is_pick',\n",
    "                        '13hero_id', \n",
    "                        '13is_pick',\n",
    "                        '14hero_id',\n",
    "                        '14is_pick'])\n",
    "test1['1hero_id'] = hero_1\n",
    "test1['1is_pick'] = heropick_1\n",
    "test1['2hero_id'] = hero_2\n",
    "test1['2is_pick'] = heropick_2\n",
    "test1['3hero_id'] = hero_3\n",
    "test1['3is_pick'] = heropick_3\n",
    "test1['4hero_id'] = hero_4\n",
    "test1['4is_pick'] = heropick_4\n",
    "test1['5hero_id'] = hero_5\n",
    "test1['5is_pick'] = heropick_5\n",
    "test1['6hero_id'] = hero_6\n",
    "test1['6is_pick'] = heropick_6\n",
    "test1['7hero_id'] = hero_7\n",
    "test1['7is_pick'] = heropick_7\n",
    "test1['8hero_id'] = hero_8\n",
    "test1['8is_pick'] = heropick_8\n",
    "test1['9hero_id'] = hero_9\n",
    "test1['9is_pick'] = heropick_9\n",
    "test1['10hero_id'] = hero_10\n",
    "test1['10is_pick'] = heropick_10\n",
    "test1['11hero_id'] = hero_11\n",
    "test1['11is_pick'] = heropick_11\n",
    "test1['12hero_id'] = hero_12\n",
    "test1['12is_pick'] = heropick_12\n",
    "test1['13hero_id'] = hero_13\n",
    "test1['13is_pick'] = heropick_13\n",
    "test1['14hero_id'] = hero_14\n",
    "test1['14is_pick'] = heropick_14\n",
    "\n",
    "X = test1.as_matrix()\n",
    "y = np.array(hero_15)\n",
    "\n",
    "X_train, X_test, y_train, y_test = train_test_split(X, y, test_size=0.2, random_state=42)\n",
    "\n",
    "model6 = MLPClassifier()\n",
    "model6.fit(X_train, y_train)"
   ]
  },
  {
   "cell_type": "code",
   "execution_count": 41,
   "metadata": {},
   "outputs": [
    {
     "data": {
      "text/plain": [
       "['model6.pkl']"
      ]
     },
     "execution_count": 41,
     "metadata": {},
     "output_type": "execute_result"
    }
   ],
   "source": [
    "y_pred = model6.predict(X_test)\n",
    "accuracy_score(y_test, y_pred)\n",
    "joblib.dump(model6, 'model6.pkl')"
   ]
  },
  {
   "cell_type": "markdown",
   "metadata": {},
   "source": [
    "### Model 7"
   ]
  },
  {
   "cell_type": "code",
   "execution_count": 43,
   "metadata": {},
   "outputs": [
    {
     "name": "stderr",
     "output_type": "stream",
     "text": [
      "/home/sulabh/software/anaconda3/envs/dotaenv36/lib/python3.6/site-packages/ipykernel_launcher.py:67: FutureWarning: Method .as_matrix will be removed in a future version. Use .values instead.\n"
     ]
    },
    {
     "data": {
      "text/plain": [
       "MLPClassifier(activation='relu', alpha=0.0001, batch_size='auto', beta_1=0.9,\n",
       "       beta_2=0.999, early_stopping=False, epsilon=1e-08,\n",
       "       hidden_layer_sizes=(100,), learning_rate='constant',\n",
       "       learning_rate_init=0.001, max_iter=200, momentum=0.9,\n",
       "       nesterovs_momentum=True, power_t=0.5, random_state=None,\n",
       "       shuffle=True, solver='adam', tol=0.0001, validation_fraction=0.1,\n",
       "       verbose=False, warm_start=False)"
      ]
     },
     "execution_count": 43,
     "metadata": {},
     "output_type": "execute_result"
    }
   ],
   "source": [
    "test2 = pd.DataFrame(columns=[\n",
    "                        '1hero_id',\n",
    "                        '1is_pick',\n",
    "                        '2hero_id',\n",
    "                        '2is_pick', \n",
    "                        '3hero_id',\n",
    "                        '3is_pick', \n",
    "                        '4hero_id', \n",
    "                        '4is_pick', \n",
    "                        '5hero_id', \n",
    "                        '5is_pick',\n",
    "                        '6hero_id',\n",
    "                        '6is_pick',\n",
    "                        '7hero_id',\n",
    "                        '7is_pick',\n",
    "                        '8hero_id',\n",
    "                        '8is_pick',\n",
    "                        '9hero_id',\n",
    "                        '9is_pick',\n",
    "                        '10hero_id',\n",
    "                        '10is_pick', \n",
    "                        '11hero_id', \n",
    "                        '11is_pick',\n",
    "                        '12hero_id',\n",
    "                        '12is_pick',\n",
    "                        '13hero_id', \n",
    "                        '13is_pick',\n",
    "                        '14hero_id',\n",
    "                        '14is_pick',\n",
    "                        '15hero_id', \n",
    "                        '15is_pick',\n",
    "                        '16hero_id',\n",
    "                        '16is_pick'])\n",
    "test1['1hero_id'] = hero_1\n",
    "test1['1is_pick'] = heropick_1\n",
    "test1['2hero_id'] = hero_2\n",
    "test1['2is_pick'] = heropick_2\n",
    "test1['3hero_id'] = hero_3\n",
    "test1['3is_pick'] = heropick_3\n",
    "test1['4hero_id'] = hero_4\n",
    "test1['4is_pick'] = heropick_4\n",
    "test1['5hero_id'] = hero_5\n",
    "test1['5is_pick'] = heropick_5\n",
    "test1['6hero_id'] = hero_6\n",
    "test1['6is_pick'] = heropick_6\n",
    "test1['7hero_id'] = hero_7\n",
    "test1['7is_pick'] = heropick_7\n",
    "test1['8hero_id'] = hero_8\n",
    "test1['8is_pick'] = heropick_8\n",
    "test1['9hero_id'] = hero_9\n",
    "test1['9is_pick'] = heropick_9\n",
    "test1['10hero_id'] = hero_10\n",
    "test1['10is_pick'] = heropick_10\n",
    "test1['11hero_id'] = hero_11\n",
    "test1['11is_pick'] = heropick_11\n",
    "test1['12hero_id'] = hero_12\n",
    "test1['12is_pick'] = heropick_12\n",
    "test1['13hero_id'] = hero_13\n",
    "test1['13is_pick'] = heropick_13\n",
    "test1['14hero_id'] = hero_14\n",
    "test1['14is_pick'] = heropick_14\n",
    "test1['15hero_id'] = hero_15\n",
    "test1['15is_pick'] = heropick_15\n",
    "test1['16hero_id'] = hero_16\n",
    "test1['16is_pick'] = heropick_16\n",
    "\n",
    "X = test1.as_matrix()\n",
    "y = np.array(hero_17)\n",
    "\n",
    "X_train, X_test, y_train, y_test = train_test_split(X, y, test_size=0.2, random_state=42)\n",
    "\n",
    "model7 = MLPClassifier()\n",
    "model7.fit(X_train, y_train)"
   ]
  },
  {
   "cell_type": "code",
   "execution_count": 44,
   "metadata": {},
   "outputs": [
    {
     "data": {
      "text/plain": [
       "['model7.pkl']"
      ]
     },
     "execution_count": 44,
     "metadata": {},
     "output_type": "execute_result"
    }
   ],
   "source": [
    "y_pred = model7.predict(X_test)\n",
    "accuracy_score(y_test, y_pred)\n",
    "joblib.dump(model7, 'model7.pkl')"
   ]
  },
  {
   "cell_type": "markdown",
   "metadata": {},
   "source": [
    "### Model 8"
   ]
  },
  {
   "cell_type": "code",
   "execution_count": 46,
   "metadata": {},
   "outputs": [
    {
     "name": "stderr",
     "output_type": "stream",
     "text": [
      "/home/sulabh/software/anaconda3/envs/dotaenv36/lib/python3.6/site-packages/ipykernel_launcher.py:79: FutureWarning: Method .as_matrix will be removed in a future version. Use .values instead.\n"
     ]
    },
    {
     "data": {
      "text/plain": [
       "MLPClassifier(activation='relu', alpha=0.0001, batch_size='auto', beta_1=0.9,\n",
       "       beta_2=0.999, early_stopping=False, epsilon=1e-08,\n",
       "       hidden_layer_sizes=(100,), learning_rate='constant',\n",
       "       learning_rate_init=0.001, max_iter=200, momentum=0.9,\n",
       "       nesterovs_momentum=True, power_t=0.5, random_state=None,\n",
       "       shuffle=True, solver='adam', tol=0.0001, validation_fraction=0.1,\n",
       "       verbose=False, warm_start=False)"
      ]
     },
     "execution_count": 46,
     "metadata": {},
     "output_type": "execute_result"
    }
   ],
   "source": [
    "test2 = pd.DataFrame(columns=[\n",
    "                        '1hero_id',\n",
    "                        '1is_pick',\n",
    "                        '2hero_id',\n",
    "                        '2is_pick', \n",
    "                        '3hero_id',\n",
    "                        '3is_pick', \n",
    "                        '4hero_id', \n",
    "                        '4is_pick', \n",
    "                        '5hero_id', \n",
    "                        '5is_pick',\n",
    "                        '6hero_id',\n",
    "                        '6is_pick',\n",
    "                        '7hero_id',\n",
    "                        '7is_pick',\n",
    "                        '8hero_id',\n",
    "                        '8is_pick',\n",
    "                        '9hero_id',\n",
    "                        '9is_pick',\n",
    "                        '10hero_id',\n",
    "                        '10is_pick', \n",
    "                        '11hero_id', \n",
    "                        '11is_pick',\n",
    "                        '12hero_id',\n",
    "                        '12is_pick',\n",
    "                        '13hero_id', \n",
    "                        '13is_pick',\n",
    "                        '14hero_id',\n",
    "                        '14is_pick',\n",
    "                        '15hero_id', \n",
    "                        '15is_pick',\n",
    "                        '16hero_id',\n",
    "                        '16is_pick',\n",
    "                        '17hero_id',\n",
    "                        '17is_pick',\n",
    "                        '18hero_id', \n",
    "                        '18is_pick',\n",
    "                        '19hero_id',\n",
    "                        '19is_pick'])\n",
    "test1['1hero_id'] = hero_1\n",
    "test1['1is_pick'] = heropick_1\n",
    "test1['2hero_id'] = hero_2\n",
    "test1['2is_pick'] = heropick_2\n",
    "test1['3hero_id'] = hero_3\n",
    "test1['3is_pick'] = heropick_3\n",
    "test1['4hero_id'] = hero_4\n",
    "test1['4is_pick'] = heropick_4\n",
    "test1['5hero_id'] = hero_5\n",
    "test1['5is_pick'] = heropick_5\n",
    "test1['6hero_id'] = hero_6\n",
    "test1['6is_pick'] = heropick_6\n",
    "test1['7hero_id'] = hero_7\n",
    "test1['7is_pick'] = heropick_7\n",
    "test1['8hero_id'] = hero_8\n",
    "test1['8is_pick'] = heropick_8\n",
    "test1['9hero_id'] = hero_9\n",
    "test1['9is_pick'] = heropick_9\n",
    "test1['10hero_id'] = hero_10\n",
    "test1['10is_pick'] = heropick_10\n",
    "test1['11hero_id'] = hero_11\n",
    "test1['11is_pick'] = heropick_11\n",
    "test1['12hero_id'] = hero_12\n",
    "test1['12is_pick'] = heropick_12\n",
    "test1['13hero_id'] = hero_13\n",
    "test1['13is_pick'] = heropick_13\n",
    "test1['14hero_id'] = hero_14\n",
    "test1['14is_pick'] = heropick_14\n",
    "test1['15hero_id'] = hero_15\n",
    "test1['15is_pick'] = heropick_15\n",
    "test1['16hero_id'] = hero_16\n",
    "test1['16is_pick'] = heropick_16\n",
    "test1['17hero_id'] = hero_17\n",
    "test1['17is_pick'] = heropick_17\n",
    "test1['18hero_id'] = hero_18\n",
    "test1['18is_pick'] = heropick_18\n",
    "test1['19hero_id'] = hero_19\n",
    "test1['19is_pick'] = heropick_19\n",
    "\n",
    "X = test1.as_matrix()\n",
    "y = np.array(hero_20)\n",
    "\n",
    "X_train, X_test, y_train, y_test = train_test_split(X, y, test_size=0.2, random_state=42)\n",
    "\n",
    "model8 = MLPClassifier()\n",
    "model8.fit(X_train, y_train)"
   ]
  },
  {
   "cell_type": "code",
   "execution_count": 47,
   "metadata": {},
   "outputs": [
    {
     "data": {
      "text/plain": [
       "['model8.pkl']"
      ]
     },
     "execution_count": 47,
     "metadata": {},
     "output_type": "execute_result"
    }
   ],
   "source": [
    "y_pred = model8.predict(X_test)\n",
    "accuracy_score(y_test, y_pred)\n",
    "joblib.dump(model8, 'model8.pkl')"
   ]
  },
  {
   "cell_type": "code",
   "execution_count": 48,
   "metadata": {},
   "outputs": [
    {
     "data": {
      "text/plain": [
       "0.03066229681279282"
      ]
     },
     "execution_count": 48,
     "metadata": {},
     "output_type": "execute_result"
    }
   ],
   "source": [
    "accuracy_score(y_test, y_pred)"
   ]
  },
  {
   "cell_type": "code",
   "execution_count": null,
   "metadata": {},
   "outputs": [],
   "source": []
  }
 ],
 "metadata": {
  "kernelspec": {
   "display_name": "Python 3",
   "language": "python",
   "name": "python3"
  },
  "language_info": {
   "codemirror_mode": {
    "name": "ipython",
    "version": 3
   },
   "file_extension": ".py",
   "mimetype": "text/x-python",
   "name": "python",
   "nbconvert_exporter": "python",
   "pygments_lexer": "ipython3",
   "version": "3.6.6"
  }
 },
 "nbformat": 4,
 "nbformat_minor": 2
}
