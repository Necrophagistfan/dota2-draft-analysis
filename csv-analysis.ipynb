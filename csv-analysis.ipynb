{
 "cells": [
  {
   "cell_type": "code",
   "execution_count": 1,
   "metadata": {},
   "outputs": [],
   "source": [
    "import os\n",
    "import copy\n",
    "import dota2api\n",
    "import numpy as np\n",
    "import pandas as pd\n",
    "import matplotlib.pyplot as plt\n",
    "\n",
    "%matplotlib inline"
   ]
  },
  {
   "cell_type": "code",
   "execution_count": 2,
   "metadata": {},
   "outputs": [],
   "source": [
    "API_KEY = '2029A39ECAAB627B5F71CF4C3E30F72D'\n",
    "api = dota2api.Initialise(API_KEY)"
   ]
  },
  {
   "cell_type": "code",
   "execution_count": 3,
   "metadata": {},
   "outputs": [],
   "source": [
    "data = pd.read_csv('../data/draft/capmodedata.csv')"
   ]
  },
  {
   "cell_type": "code",
   "execution_count": 4,
   "metadata": {},
   "outputs": [
    {
     "data": {
      "text/html": [
       "<div>\n",
       "<style scoped>\n",
       "    .dataframe tbody tr th:only-of-type {\n",
       "        vertical-align: middle;\n",
       "    }\n",
       "\n",
       "    .dataframe tbody tr th {\n",
       "        vertical-align: top;\n",
       "    }\n",
       "\n",
       "    .dataframe thead th {\n",
       "        text-align: right;\n",
       "    }\n",
       "</style>\n",
       "<table border=\"1\" class=\"dataframe\">\n",
       "  <thead>\n",
       "    <tr style=\"text-align: right;\">\n",
       "      <th></th>\n",
       "      <th>match_id</th>\n",
       "      <th>radiant_win</th>\n",
       "      <th>duration</th>\n",
       "      <th>1is_pick</th>\n",
       "      <th>1team_id</th>\n",
       "      <th>1hero_id</th>\n",
       "      <th>2is_pick</th>\n",
       "      <th>2team_id</th>\n",
       "      <th>2hero_id</th>\n",
       "      <th>3is_pick</th>\n",
       "      <th>...</th>\n",
       "      <th>17hero_id</th>\n",
       "      <th>18is_pick</th>\n",
       "      <th>18team_id</th>\n",
       "      <th>18hero_id</th>\n",
       "      <th>19is_pick</th>\n",
       "      <th>19team_id</th>\n",
       "      <th>19hero_id</th>\n",
       "      <th>20is_pick</th>\n",
       "      <th>20team_id</th>\n",
       "      <th>20hero_id</th>\n",
       "    </tr>\n",
       "  </thead>\n",
       "  <tbody>\n",
       "    <tr>\n",
       "      <th>0</th>\n",
       "      <td>1928898739</td>\n",
       "      <td>True</td>\n",
       "      <td>2885</td>\n",
       "      <td>False</td>\n",
       "      <td>0</td>\n",
       "      <td>73</td>\n",
       "      <td>False</td>\n",
       "      <td>1</td>\n",
       "      <td>69</td>\n",
       "      <td>False</td>\n",
       "      <td>...</td>\n",
       "      <td>41.0</td>\n",
       "      <td>False</td>\n",
       "      <td>0.0</td>\n",
       "      <td>81.0</td>\n",
       "      <td>True</td>\n",
       "      <td>1.0</td>\n",
       "      <td>105.0</td>\n",
       "      <td>True</td>\n",
       "      <td>0.0</td>\n",
       "      <td>94.0</td>\n",
       "    </tr>\n",
       "    <tr>\n",
       "      <th>1</th>\n",
       "      <td>1928932285</td>\n",
       "      <td>True</td>\n",
       "      <td>1894</td>\n",
       "      <td>False</td>\n",
       "      <td>0</td>\n",
       "      <td>69</td>\n",
       "      <td>False</td>\n",
       "      <td>1</td>\n",
       "      <td>102</td>\n",
       "      <td>False</td>\n",
       "      <td>...</td>\n",
       "      <td>40.0</td>\n",
       "      <td>False</td>\n",
       "      <td>0.0</td>\n",
       "      <td>28.0</td>\n",
       "      <td>True</td>\n",
       "      <td>1.0</td>\n",
       "      <td>97.0</td>\n",
       "      <td>True</td>\n",
       "      <td>0.0</td>\n",
       "      <td>62.0</td>\n",
       "    </tr>\n",
       "    <tr>\n",
       "      <th>2</th>\n",
       "      <td>1928903165</td>\n",
       "      <td>True</td>\n",
       "      <td>2424</td>\n",
       "      <td>False</td>\n",
       "      <td>1</td>\n",
       "      <td>85</td>\n",
       "      <td>False</td>\n",
       "      <td>0</td>\n",
       "      <td>68</td>\n",
       "      <td>False</td>\n",
       "      <td>...</td>\n",
       "      <td>30.0</td>\n",
       "      <td>False</td>\n",
       "      <td>1.0</td>\n",
       "      <td>47.0</td>\n",
       "      <td>True</td>\n",
       "      <td>0.0</td>\n",
       "      <td>58.0</td>\n",
       "      <td>True</td>\n",
       "      <td>1.0</td>\n",
       "      <td>33.0</td>\n",
       "    </tr>\n",
       "    <tr>\n",
       "      <th>3</th>\n",
       "      <td>1928907204</td>\n",
       "      <td>True</td>\n",
       "      <td>2588</td>\n",
       "      <td>False</td>\n",
       "      <td>1</td>\n",
       "      <td>71</td>\n",
       "      <td>False</td>\n",
       "      <td>0</td>\n",
       "      <td>73</td>\n",
       "      <td>False</td>\n",
       "      <td>...</td>\n",
       "      <td>30.0</td>\n",
       "      <td>False</td>\n",
       "      <td>1.0</td>\n",
       "      <td>68.0</td>\n",
       "      <td>True</td>\n",
       "      <td>0.0</td>\n",
       "      <td>50.0</td>\n",
       "      <td>True</td>\n",
       "      <td>1.0</td>\n",
       "      <td>21.0</td>\n",
       "    </tr>\n",
       "    <tr>\n",
       "      <th>4</th>\n",
       "      <td>1928865084</td>\n",
       "      <td>True</td>\n",
       "      <td>3658</td>\n",
       "      <td>False</td>\n",
       "      <td>1</td>\n",
       "      <td>12</td>\n",
       "      <td>False</td>\n",
       "      <td>0</td>\n",
       "      <td>42</td>\n",
       "      <td>False</td>\n",
       "      <td>...</td>\n",
       "      <td>93.0</td>\n",
       "      <td>False</td>\n",
       "      <td>1.0</td>\n",
       "      <td>67.0</td>\n",
       "      <td>True</td>\n",
       "      <td>0.0</td>\n",
       "      <td>72.0</td>\n",
       "      <td>True</td>\n",
       "      <td>1.0</td>\n",
       "      <td>40.0</td>\n",
       "    </tr>\n",
       "  </tbody>\n",
       "</table>\n",
       "<p>5 rows × 63 columns</p>\n",
       "</div>"
      ],
      "text/plain": [
       "     match_id  radiant_win  duration  1is_pick  1team_id  1hero_id  2is_pick  \\\n",
       "0  1928898739         True      2885     False         0        73     False   \n",
       "1  1928932285         True      1894     False         0        69     False   \n",
       "2  1928903165         True      2424     False         1        85     False   \n",
       "3  1928907204         True      2588     False         1        71     False   \n",
       "4  1928865084         True      3658     False         1        12     False   \n",
       "\n",
       "   2team_id  2hero_id  3is_pick    ...      17hero_id  18is_pick  18team_id  \\\n",
       "0         1        69     False    ...           41.0      False        0.0   \n",
       "1         1       102     False    ...           40.0      False        0.0   \n",
       "2         0        68     False    ...           30.0      False        1.0   \n",
       "3         0        73     False    ...           30.0      False        1.0   \n",
       "4         0        42     False    ...           93.0      False        1.0   \n",
       "\n",
       "   18hero_id  19is_pick  19team_id  19hero_id  20is_pick  20team_id  20hero_id  \n",
       "0       81.0       True        1.0      105.0       True        0.0       94.0  \n",
       "1       28.0       True        1.0       97.0       True        0.0       62.0  \n",
       "2       47.0       True        0.0       58.0       True        1.0       33.0  \n",
       "3       68.0       True        0.0       50.0       True        1.0       21.0  \n",
       "4       67.0       True        0.0       72.0       True        1.0       40.0  \n",
       "\n",
       "[5 rows x 63 columns]"
      ]
     },
     "execution_count": 4,
     "metadata": {},
     "output_type": "execute_result"
    }
   ],
   "source": [
    "data.head(5)"
   ]
  },
  {
   "cell_type": "code",
   "execution_count": 5,
   "metadata": {},
   "outputs": [
    {
     "data": {
      "text/plain": [
       "Index(['match_id', 'radiant_win', 'duration', '1is_pick', '1team_id',\n",
       "       '1hero_id', '2is_pick', '2team_id', '2hero_id', '3is_pick', '3team_id',\n",
       "       '3hero_id', '4is_pick', '4team_id', '4hero_id', '5is_pick', '5team_id',\n",
       "       '5hero_id', '6is_pick', '6team_id', '6hero_id', '7is_pick', '7team_id',\n",
       "       '7hero_id', '8is_pick', '8team_id', '8hero_id', '9is_pick', '9team_id',\n",
       "       '9hero_id', '10is_pick', '10team_id', '10hero_id', '11is_pick',\n",
       "       '11team_id', '11hero_id', '12is_pick', '12team_id', '12hero_id',\n",
       "       '13is_pick', '13team_id', '13hero_id', '14is_pick', '14team_id',\n",
       "       '14hero_id', '15is_pick', '15team_id', '15hero_id', '16is_pick',\n",
       "       '16team_id', '16hero_id', '17is_pick', '17team_id', '17hero_id',\n",
       "       '18is_pick', '18team_id', '18hero_id', '19is_pick', '19team_id',\n",
       "       '19hero_id', '20is_pick', '20team_id', '20hero_id'],\n",
       "      dtype='object')"
      ]
     },
     "execution_count": 5,
     "metadata": {},
     "output_type": "execute_result"
    }
   ],
   "source": [
    "data.columns"
   ]
  },
  {
   "cell_type": "code",
   "execution_count": 6,
   "metadata": {},
   "outputs": [],
   "source": [
    "# # # Getting Heroes ID according to the name\n",
    "heroes = api.get_heroes()"
   ]
  },
  {
   "cell_type": "code",
   "execution_count": 7,
   "metadata": {},
   "outputs": [],
   "source": [
    "heroes_dict = {}\n",
    "for i in range (len(heroes['heroes'])):\n",
    "    hero_id = heroes['heroes'][i]['id']\n",
    "    hero_name = heroes['heroes'][i]['localized_name']\n",
    "    heroes_dict[hero_id]= hero_name"
   ]
  },
  {
   "cell_type": "code",
   "execution_count": 8,
   "metadata": {},
   "outputs": [],
   "source": [
    "def change_hero_name(row):\n",
    "    if row in heroes_dict:\n",
    "        return heroes_dict[row]\n",
    "    \n",
    "columns = [\n",
    "    '1hero_id', \n",
    "    '2hero_id', \n",
    "    '3hero_id', \n",
    "    '4hero_id', \n",
    "    '5hero_id', \n",
    "    '6hero_id', \n",
    "    '7hero_id', \n",
    "    '8hero_id', \n",
    "    '9hero_id',\n",
    "    '10hero_id',\n",
    "    '11hero_id', \n",
    "    '12hero_id', \n",
    "    '13hero_id', \n",
    "    '14hero_id', \n",
    "    '15hero_id', \n",
    "    '16hero_id', \n",
    "    '17hero_id', \n",
    "    '18hero_id', \n",
    "    '19hero_id',\n",
    "    '20hero_id'\n",
    "    ]\n",
    "    \n",
    "for i in range(len(columns)):\n",
    "    data[columns[i]] = data[columns[i]].apply(change_hero_name)"
   ]
  },
  {
   "cell_type": "code",
   "execution_count": 9,
   "metadata": {},
   "outputs": [
    {
     "data": {
      "text/html": [
       "<div>\n",
       "<style scoped>\n",
       "    .dataframe tbody tr th:only-of-type {\n",
       "        vertical-align: middle;\n",
       "    }\n",
       "\n",
       "    .dataframe tbody tr th {\n",
       "        vertical-align: top;\n",
       "    }\n",
       "\n",
       "    .dataframe thead th {\n",
       "        text-align: right;\n",
       "    }\n",
       "</style>\n",
       "<table border=\"1\" class=\"dataframe\">\n",
       "  <thead>\n",
       "    <tr style=\"text-align: right;\">\n",
       "      <th></th>\n",
       "      <th>match_id</th>\n",
       "      <th>radiant_win</th>\n",
       "      <th>duration</th>\n",
       "      <th>1is_pick</th>\n",
       "      <th>1team_id</th>\n",
       "      <th>1hero_id</th>\n",
       "      <th>2is_pick</th>\n",
       "      <th>2team_id</th>\n",
       "      <th>2hero_id</th>\n",
       "      <th>3is_pick</th>\n",
       "      <th>...</th>\n",
       "      <th>17hero_id</th>\n",
       "      <th>18is_pick</th>\n",
       "      <th>18team_id</th>\n",
       "      <th>18hero_id</th>\n",
       "      <th>19is_pick</th>\n",
       "      <th>19team_id</th>\n",
       "      <th>19hero_id</th>\n",
       "      <th>20is_pick</th>\n",
       "      <th>20team_id</th>\n",
       "      <th>20hero_id</th>\n",
       "    </tr>\n",
       "  </thead>\n",
       "  <tbody>\n",
       "    <tr>\n",
       "      <th>0</th>\n",
       "      <td>1928898739</td>\n",
       "      <td>True</td>\n",
       "      <td>2885</td>\n",
       "      <td>False</td>\n",
       "      <td>0</td>\n",
       "      <td>Alchemist</td>\n",
       "      <td>False</td>\n",
       "      <td>1</td>\n",
       "      <td>Doom</td>\n",
       "      <td>False</td>\n",
       "      <td>...</td>\n",
       "      <td>Faceless Void</td>\n",
       "      <td>False</td>\n",
       "      <td>0.0</td>\n",
       "      <td>Chaos Knight</td>\n",
       "      <td>True</td>\n",
       "      <td>1.0</td>\n",
       "      <td>Techies</td>\n",
       "      <td>True</td>\n",
       "      <td>0.0</td>\n",
       "      <td>Medusa</td>\n",
       "    </tr>\n",
       "    <tr>\n",
       "      <th>1</th>\n",
       "      <td>1928932285</td>\n",
       "      <td>True</td>\n",
       "      <td>1894</td>\n",
       "      <td>False</td>\n",
       "      <td>0</td>\n",
       "      <td>Doom</td>\n",
       "      <td>False</td>\n",
       "      <td>1</td>\n",
       "      <td>Abaddon</td>\n",
       "      <td>False</td>\n",
       "      <td>...</td>\n",
       "      <td>Venomancer</td>\n",
       "      <td>False</td>\n",
       "      <td>0.0</td>\n",
       "      <td>Slardar</td>\n",
       "      <td>True</td>\n",
       "      <td>1.0</td>\n",
       "      <td>Magnus</td>\n",
       "      <td>True</td>\n",
       "      <td>0.0</td>\n",
       "      <td>Bounty Hunter</td>\n",
       "    </tr>\n",
       "    <tr>\n",
       "      <th>2</th>\n",
       "      <td>1928903165</td>\n",
       "      <td>True</td>\n",
       "      <td>2424</td>\n",
       "      <td>False</td>\n",
       "      <td>1</td>\n",
       "      <td>Undying</td>\n",
       "      <td>False</td>\n",
       "      <td>0</td>\n",
       "      <td>Ancient Apparition</td>\n",
       "      <td>False</td>\n",
       "      <td>...</td>\n",
       "      <td>Witch Doctor</td>\n",
       "      <td>False</td>\n",
       "      <td>1.0</td>\n",
       "      <td>Viper</td>\n",
       "      <td>True</td>\n",
       "      <td>0.0</td>\n",
       "      <td>Enchantress</td>\n",
       "      <td>True</td>\n",
       "      <td>1.0</td>\n",
       "      <td>Enigma</td>\n",
       "    </tr>\n",
       "    <tr>\n",
       "      <th>3</th>\n",
       "      <td>1928907204</td>\n",
       "      <td>True</td>\n",
       "      <td>2588</td>\n",
       "      <td>False</td>\n",
       "      <td>1</td>\n",
       "      <td>Spirit Breaker</td>\n",
       "      <td>False</td>\n",
       "      <td>0</td>\n",
       "      <td>Alchemist</td>\n",
       "      <td>False</td>\n",
       "      <td>...</td>\n",
       "      <td>Witch Doctor</td>\n",
       "      <td>False</td>\n",
       "      <td>1.0</td>\n",
       "      <td>Ancient Apparition</td>\n",
       "      <td>True</td>\n",
       "      <td>0.0</td>\n",
       "      <td>Dazzle</td>\n",
       "      <td>True</td>\n",
       "      <td>1.0</td>\n",
       "      <td>Windranger</td>\n",
       "    </tr>\n",
       "    <tr>\n",
       "      <th>4</th>\n",
       "      <td>1928865084</td>\n",
       "      <td>True</td>\n",
       "      <td>3658</td>\n",
       "      <td>False</td>\n",
       "      <td>1</td>\n",
       "      <td>Phantom Lancer</td>\n",
       "      <td>False</td>\n",
       "      <td>0</td>\n",
       "      <td>Wraith King</td>\n",
       "      <td>False</td>\n",
       "      <td>...</td>\n",
       "      <td>Slark</td>\n",
       "      <td>False</td>\n",
       "      <td>1.0</td>\n",
       "      <td>Spectre</td>\n",
       "      <td>True</td>\n",
       "      <td>0.0</td>\n",
       "      <td>Gyrocopter</td>\n",
       "      <td>True</td>\n",
       "      <td>1.0</td>\n",
       "      <td>Venomancer</td>\n",
       "    </tr>\n",
       "  </tbody>\n",
       "</table>\n",
       "<p>5 rows × 63 columns</p>\n",
       "</div>"
      ],
      "text/plain": [
       "     match_id  radiant_win  duration  1is_pick  1team_id        1hero_id  \\\n",
       "0  1928898739         True      2885     False         0       Alchemist   \n",
       "1  1928932285         True      1894     False         0            Doom   \n",
       "2  1928903165         True      2424     False         1         Undying   \n",
       "3  1928907204         True      2588     False         1  Spirit Breaker   \n",
       "4  1928865084         True      3658     False         1  Phantom Lancer   \n",
       "\n",
       "   2is_pick  2team_id            2hero_id  3is_pick      ...        \\\n",
       "0     False         1                Doom     False      ...         \n",
       "1     False         1             Abaddon     False      ...         \n",
       "2     False         0  Ancient Apparition     False      ...         \n",
       "3     False         0           Alchemist     False      ...         \n",
       "4     False         0         Wraith King     False      ...         \n",
       "\n",
       "       17hero_id 18is_pick  18team_id           18hero_id 19is_pick  \\\n",
       "0  Faceless Void     False        0.0        Chaos Knight      True   \n",
       "1     Venomancer     False        0.0             Slardar      True   \n",
       "2   Witch Doctor     False        1.0               Viper      True   \n",
       "3   Witch Doctor     False        1.0  Ancient Apparition      True   \n",
       "4          Slark     False        1.0             Spectre      True   \n",
       "\n",
       "   19team_id    19hero_id 20is_pick  20team_id      20hero_id  \n",
       "0        1.0      Techies      True        0.0         Medusa  \n",
       "1        1.0       Magnus      True        0.0  Bounty Hunter  \n",
       "2        0.0  Enchantress      True        1.0         Enigma  \n",
       "3        0.0       Dazzle      True        1.0     Windranger  \n",
       "4        0.0   Gyrocopter      True        1.0     Venomancer  \n",
       "\n",
       "[5 rows x 63 columns]"
      ]
     },
     "execution_count": 9,
     "metadata": {},
     "output_type": "execute_result"
    }
   ],
   "source": [
    "data.head(5)"
   ]
  },
  {
   "cell_type": "code",
   "execution_count": 10,
   "metadata": {},
   "outputs": [
    {
     "data": {
      "text/plain": [
       "161.26666666666668"
      ]
     },
     "execution_count": 10,
     "metadata": {},
     "output_type": "execute_result"
    }
   ],
   "source": [
    "np.max(data['duration'])\n",
    "max_hours = (np.max(data['duration'])) / 60\n",
    "max_hours"
   ]
  },
  {
   "cell_type": "code",
   "execution_count": 11,
   "metadata": {},
   "outputs": [],
   "source": [
    "def convert_to_minutes(row):\n",
    "    return row / 60\n",
    "\n",
    "data['minutes'] = data['duration'].apply(convert_to_minutes)"
   ]
  },
  {
   "cell_type": "code",
   "execution_count": 12,
   "metadata": {},
   "outputs": [],
   "source": [
    "groupby_minute = data.groupby(['minutes']).count()"
   ]
  },
  {
   "cell_type": "code",
   "execution_count": 13,
   "metadata": {},
   "outputs": [],
   "source": [
    "# groupby_minute.head()"
   ]
  },
  {
   "cell_type": "code",
   "execution_count": 14,
   "metadata": {},
   "outputs": [
    {
     "data": {
      "text/plain": [
       "5184"
      ]
     },
     "execution_count": 14,
     "metadata": {},
     "output_type": "execute_result"
    }
   ],
   "source": [
    "len(groupby_minute)"
   ]
  },
  {
   "cell_type": "code",
   "execution_count": 15,
   "metadata": {},
   "outputs": [
    {
     "data": {
      "text/plain": [
       "Float64Index([0.03333333333333333, 0.26666666666666666, 0.36666666666666664,\n",
       "               0.5166666666666667,                0.55,  0.5833333333333334,\n",
       "               0.6333333333333333,                0.65,                 0.8,\n",
       "               0.8166666666666667,\n",
       "              ...\n",
       "               127.83333333333333,              129.05,              136.35,\n",
       "                           138.05,              138.35,  140.86666666666667,\n",
       "               142.46666666666667,               143.2,               153.3,\n",
       "               161.26666666666668],\n",
       "             dtype='float64', name='minutes', length=5184)"
      ]
     },
     "execution_count": 15,
     "metadata": {},
     "output_type": "execute_result"
    }
   ],
   "source": [
    "groupby_minute.index"
   ]
  },
  {
   "cell_type": "code",
   "execution_count": 16,
   "metadata": {},
   "outputs": [
    {
     "data": {
      "text/plain": [
       "161.26666666666668"
      ]
     },
     "execution_count": 16,
     "metadata": {},
     "output_type": "execute_result"
    }
   ],
   "source": [
    "max(groupby_minute.index)"
   ]
  },
  {
   "cell_type": "code",
   "execution_count": 17,
   "metadata": {},
   "outputs": [
    {
     "data": {
      "text/plain": [
       "(array([819., 967., 968., 967., 949., 444.,  50.,  11.,   7.,   2.]),\n",
       " array([3.33333333e-02, 1.61566667e+01, 3.22800000e+01, 4.84033333e+01,\n",
       "        6.45266667e+01, 8.06500000e+01, 9.67733333e+01, 1.12896667e+02,\n",
       "        1.29020000e+02, 1.45143333e+02, 1.61266667e+02]),\n",
       " <a list of 10 Patch objects>)"
      ]
     },
     "execution_count": 17,
     "metadata": {},
     "output_type": "execute_result"
    },
    {
     "data": {
      "image/png": "[encoded data removed]",
      "text/plain": [
       "<Figure size 432x288 with 1 Axes>"
      ]
     },
     "metadata": {
      "needs_background": "light"
     },
     "output_type": "display_data"
    }
   ],
   "source": [
    "plt.hist(groupby_minute.index, histtype='bar', color='green')"
   ]
  },
  {
   "cell_type": "code",
   "execution_count": 32,
   "metadata": {},
   "outputs": [],
   "source": [
    "# # As there should be no bias, lets see which side of the map has the most win or is it equal"
   ]
  },
  {
   "cell_type": "code",
   "execution_count": 19,
   "metadata": {},
   "outputs": [],
   "source": [
    "base1 = data.loc[data['radiant_win'] == True]"
   ]
  },
  {
   "cell_type": "code",
   "execution_count": 20,
   "metadata": {},
   "outputs": [
    {
     "data": {
      "text/plain": [
       "233537"
      ]
     },
     "execution_count": 20,
     "metadata": {},
     "output_type": "execute_result"
    }
   ],
   "source": [
    "len(base1)"
   ]
  },
  {
   "cell_type": "code",
   "execution_count": 21,
   "metadata": {},
   "outputs": [],
   "source": [
    "base2 = data.loc[data['radiant_win'] == False]"
   ]
  },
  {
   "cell_type": "code",
   "execution_count": 22,
   "metadata": {},
   "outputs": [
    {
     "data": {
      "text/plain": [
       "227513"
      ]
     },
     "execution_count": 22,
     "metadata": {},
     "output_type": "execute_result"
    }
   ],
   "source": [
    "len(base2)"
   ]
  },
  {
   "cell_type": "code",
   "execution_count": 23,
   "metadata": {},
   "outputs": [],
   "source": [
    "total = len(base1) + len(base2)"
   ]
  },
  {
   "cell_type": "code",
   "execution_count": 24,
   "metadata": {},
   "outputs": [
    {
     "data": {
      "text/plain": [
       "461050"
      ]
     },
     "execution_count": 24,
     "metadata": {},
     "output_type": "execute_result"
    }
   ],
   "source": [
    "total"
   ]
  },
  {
   "cell_type": "code",
   "execution_count": 25,
   "metadata": {},
   "outputs": [
    {
     "data": {
      "text/plain": [
       "461050"
      ]
     },
     "execution_count": 25,
     "metadata": {},
     "output_type": "execute_result"
    }
   ],
   "source": [
    "len(data)"
   ]
  },
  {
   "cell_type": "code",
   "execution_count": 26,
   "metadata": {},
   "outputs": [],
   "source": [
    "temp_a = ['radiant', 'dire']\n",
    "temp_b = [len(base1), len(base2)]"
   ]
  },
  {
   "cell_type": "code",
   "execution_count": 31,
   "metadata": {},
   "outputs": [
    {
     "data": {
      "text/plain": [
       "<BarContainer object of 2 artists>"
      ]
     },
     "execution_count": 31,
     "metadata": {},
     "output_type": "execute_result"
    },
    {
     "data": {
      "image/png": "[encoded data removed]",
      "text/plain": [
       "<Figure size 432x288 with 1 Axes>"
      ]
     },
     "metadata": {
      "needs_background": "light"
     },
     "output_type": "display_data"
    }
   ],
   "source": [
    "plt.bar(temp_a, temp_b)"
   ]
  },
  {
   "cell_type": "code",
   "execution_count": 33,
   "metadata": {},
   "outputs": [],
   "source": [
    "# # Let's Analyze the Draft\n",
    "# # As each draft must have it's own machine learning and send the data to the next machine learning model"
   ]
  },
  {
   "cell_type": "code",
   "execution_count": null,
   "metadata": {},
   "outputs": [],
   "source": []
  },
  {
   "cell_type": "code",
   "execution_count": null,
   "metadata": {},
   "outputs": [],
   "source": []
  },
  {
   "cell_type": "code",
   "execution_count": null,
   "metadata": {},
   "outputs": [],
   "source": []
  },
  {
   "cell_type": "code",
   "execution_count": null,
   "metadata": {},
   "outputs": [],
   "source": []
  },
  {
   "cell_type": "code",
   "execution_count": null,
   "metadata": {},
   "outputs": [],
   "source": []
  },
  {
   "cell_type": "code",
   "execution_count": null,
   "metadata": {},
   "outputs": [],
   "source": []
  },
  {
   "cell_type": "code",
   "execution_count": null,
   "metadata": {},
   "outputs": [],
   "source": []
  },
  {
   "cell_type": "code",
   "execution_count": null,
   "metadata": {},
   "outputs": [],
   "source": []
  },
  {
   "cell_type": "code",
   "execution_count": null,
   "metadata": {},
   "outputs": [],
   "source": []
  },
  {
   "cell_type": "code",
   "execution_count": null,
   "metadata": {},
   "outputs": [],
   "source": []
  },
  {
   "cell_type": "code",
   "execution_count": null,
   "metadata": {},
   "outputs": [],
   "source": []
  },
  {
   "cell_type": "code",
   "execution_count": 28,
   "metadata": {},
   "outputs": [],
   "source": [
    "a = [20, 2, 3, 4, 1, 1, 1, 4, 1, 1]"
   ]
  },
  {
   "cell_type": "code",
   "execution_count": null,
   "metadata": {},
   "outputs": [],
   "source": []
  },
  {
   "cell_type": "code",
   "execution_count": 29,
   "metadata": {},
   "outputs": [
    {
     "data": {
      "text/plain": [
       "(array([6., 3., 0., 0., 0., 0., 0., 0., 0., 1.]),\n",
       " array([ 1. ,  2.9,  4.8,  6.7,  8.6, 10.5, 12.4, 14.3, 16.2, 18.1, 20. ]),\n",
       " <a list of 10 Patch objects>)"
      ]
     },
     "execution_count": 29,
     "metadata": {},
     "output_type": "execute_result"
    },
    {
     "data": {
      "image/png": "[encoded data removed]",
      "text/plain": [
       "<Figure size 432x288 with 1 Axes>"
      ]
     },
     "metadata": {
      "needs_background": "light"
     },
     "output_type": "display_data"
    }
   ],
   "source": [
    "plt.hist(a)"
   ]
  },
  {
   "cell_type": "code",
   "execution_count": null,
   "metadata": {},
   "outputs": [],
   "source": []
  }
 ],
 "metadata": {
  "kernelspec": {
   "display_name": "Python 3",
   "language": "python",
   "name": "python3"
  },
  "language_info": {
   "codemirror_mode": {
    "name": "ipython",
    "version": 3
   },
   "file_extension": ".py",
   "mimetype": "text/x-python",
   "name": "python",
   "nbconvert_exporter": "python",
   "pygments_lexer": "ipython3",
   "version": "3.6.6"
  }
 },
 "nbformat": 4,
 "nbformat_minor": 2
}
